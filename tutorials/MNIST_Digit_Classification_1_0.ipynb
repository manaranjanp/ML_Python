{
  "nbformat": 4,
  "nbformat_minor": 0,
  "metadata": {
    "kernelspec": {
      "display_name": "Python 3",
      "language": "python",
      "name": "python3"
    },
    "language_info": {
      "codemirror_mode": {
        "name": "ipython",
        "version": 3
      },
      "file_extension": ".py",
      "mimetype": "text/x-python",
      "name": "python",
      "nbconvert_exporter": "python",
      "pygments_lexer": "ipython3",
      "version": "3.8.3"
    },
    "colab": {
      "name": "MNIST Digit Classification 1.0.ipynb",
      "provenance": []
    },
    "accelerator": "GPU"
  },
  "cells": [
    {
      "cell_type": "markdown",
      "metadata": {
        "id": "y351jE0QNK89"
      },
      "source": [
        "## Extracting all Images \n",
        "\n",
        "### Import all libraries"
      ]
    },
    {
      "cell_type": "code",
      "metadata": {
        "id": "jMgusZeRNK9A"
      },
      "source": [
        "import pandas as pd\n",
        "import numpy as np\n",
        "import matplotlib.pyplot as plt\n",
        "import csv\n",
        "import cv2\n",
        "%matplotlib inline"
      ],
      "execution_count": 1,
      "outputs": []
    },
    {
      "cell_type": "markdown",
      "metadata": {
        "id": "8LF2dgyrNK9A"
      },
      "source": [
        "### The Dataset"
      ]
    },
    {
      "cell_type": "markdown",
      "metadata": {
        "id": "wWxET_wmNK9B"
      },
      "source": [
        "#### MNIST Digit Recognition "
      ]
    },
    {
      "cell_type": "markdown",
      "metadata": {
        "id": "dwWrImjsNK9B"
      },
      "source": [
        "The data files train.csv and test.csv contain gray-scale images of hand-drawn digits, from zero through nine.\n",
        "\n",
        "https://www.kaggle.com/c/digit-recognizer/data\n",
        "\n",
        "Each image is 28 pixels in height and 28 pixels in width, for a total of 784 pixels in total. Each pixel has a single pixel-value associated with it, indicating the lightness or darkness of that pixel, with higher numbers meaning darker. This pixel-value is an integer between 0 and 255, inclusive.\n",
        "\n",
        "The training data set, (train.csv), has 785 columns. The first column, called \"label\", is the digit that was drawn by the user. The rest of the columns contain the pixel-values of the associated image."
      ]
    },
    {
      "cell_type": "markdown",
      "metadata": {
        "id": "pcdfUCS7NK9B"
      },
      "source": [
        "### Read the images and labels"
      ]
    },
    {
      "cell_type": "code",
      "metadata": {
        "id": "NkWX74KKNK9C"
      },
      "source": [
        "data_file = 'https://drive.google.com/uc?export=download&id=10e18Hf84U_7YcfObVJ-dWjYFzZEL73Ht'"
      ],
      "execution_count": 2,
      "outputs": []
    },
    {
      "cell_type": "code",
      "metadata": {
        "id": "SNxNFTMBNK9C"
      },
      "source": [
        "digits_df = pd.read_csv( data_file )"
      ],
      "execution_count": 3,
      "outputs": []
    },
    {
      "cell_type": "code",
      "metadata": {
        "id": "zjbOHmdLNK9C",
        "outputId": "84632fa8-be96-4f9e-98a3-083cfce27601",
        "colab": {
          "base_uri": "https://localhost:8080/",
          "height": 255
        }
      },
      "source": [
        "digits_df.head( 5 )"
      ],
      "execution_count": 4,
      "outputs": [
        {
          "output_type": "execute_result",
          "data": {
            "text/html": [
              "<div>\n",
              "<style scoped>\n",
              "    .dataframe tbody tr th:only-of-type {\n",
              "        vertical-align: middle;\n",
              "    }\n",
              "\n",
              "    .dataframe tbody tr th {\n",
              "        vertical-align: top;\n",
              "    }\n",
              "\n",
              "    .dataframe thead th {\n",
              "        text-align: right;\n",
              "    }\n",
              "</style>\n",
              "<table border=\"1\" class=\"dataframe\">\n",
              "  <thead>\n",
              "    <tr style=\"text-align: right;\">\n",
              "      <th></th>\n",
              "      <th>label</th>\n",
              "      <th>pixel0</th>\n",
              "      <th>pixel1</th>\n",
              "      <th>pixel2</th>\n",
              "      <th>pixel3</th>\n",
              "      <th>pixel4</th>\n",
              "      <th>pixel5</th>\n",
              "      <th>pixel6</th>\n",
              "      <th>pixel7</th>\n",
              "      <th>pixel8</th>\n",
              "      <th>pixel9</th>\n",
              "      <th>pixel10</th>\n",
              "      <th>pixel11</th>\n",
              "      <th>pixel12</th>\n",
              "      <th>pixel13</th>\n",
              "      <th>pixel14</th>\n",
              "      <th>pixel15</th>\n",
              "      <th>pixel16</th>\n",
              "      <th>pixel17</th>\n",
              "      <th>pixel18</th>\n",
              "      <th>pixel19</th>\n",
              "      <th>pixel20</th>\n",
              "      <th>pixel21</th>\n",
              "      <th>pixel22</th>\n",
              "      <th>pixel23</th>\n",
              "      <th>pixel24</th>\n",
              "      <th>pixel25</th>\n",
              "      <th>pixel26</th>\n",
              "      <th>pixel27</th>\n",
              "      <th>pixel28</th>\n",
              "      <th>pixel29</th>\n",
              "      <th>pixel30</th>\n",
              "      <th>pixel31</th>\n",
              "      <th>pixel32</th>\n",
              "      <th>pixel33</th>\n",
              "      <th>pixel34</th>\n",
              "      <th>pixel35</th>\n",
              "      <th>pixel36</th>\n",
              "      <th>pixel37</th>\n",
              "      <th>pixel38</th>\n",
              "      <th>...</th>\n",
              "      <th>pixel744</th>\n",
              "      <th>pixel745</th>\n",
              "      <th>pixel746</th>\n",
              "      <th>pixel747</th>\n",
              "      <th>pixel748</th>\n",
              "      <th>pixel749</th>\n",
              "      <th>pixel750</th>\n",
              "      <th>pixel751</th>\n",
              "      <th>pixel752</th>\n",
              "      <th>pixel753</th>\n",
              "      <th>pixel754</th>\n",
              "      <th>pixel755</th>\n",
              "      <th>pixel756</th>\n",
              "      <th>pixel757</th>\n",
              "      <th>pixel758</th>\n",
              "      <th>pixel759</th>\n",
              "      <th>pixel760</th>\n",
              "      <th>pixel761</th>\n",
              "      <th>pixel762</th>\n",
              "      <th>pixel763</th>\n",
              "      <th>pixel764</th>\n",
              "      <th>pixel765</th>\n",
              "      <th>pixel766</th>\n",
              "      <th>pixel767</th>\n",
              "      <th>pixel768</th>\n",
              "      <th>pixel769</th>\n",
              "      <th>pixel770</th>\n",
              "      <th>pixel771</th>\n",
              "      <th>pixel772</th>\n",
              "      <th>pixel773</th>\n",
              "      <th>pixel774</th>\n",
              "      <th>pixel775</th>\n",
              "      <th>pixel776</th>\n",
              "      <th>pixel777</th>\n",
              "      <th>pixel778</th>\n",
              "      <th>pixel779</th>\n",
              "      <th>pixel780</th>\n",
              "      <th>pixel781</th>\n",
              "      <th>pixel782</th>\n",
              "      <th>pixel783</th>\n",
              "    </tr>\n",
              "  </thead>\n",
              "  <tbody>\n",
              "    <tr>\n",
              "      <th>0</th>\n",
              "      <td>1</td>\n",
              "      <td>0</td>\n",
              "      <td>0</td>\n",
              "      <td>0</td>\n",
              "      <td>0</td>\n",
              "      <td>0</td>\n",
              "      <td>0</td>\n",
              "      <td>0</td>\n",
              "      <td>0</td>\n",
              "      <td>0</td>\n",
              "      <td>0</td>\n",
              "      <td>0</td>\n",
              "      <td>0</td>\n",
              "      <td>0</td>\n",
              "      <td>0</td>\n",
              "      <td>0</td>\n",
              "      <td>0</td>\n",
              "      <td>0</td>\n",
              "      <td>0</td>\n",
              "      <td>0</td>\n",
              "      <td>0</td>\n",
              "      <td>0</td>\n",
              "      <td>0</td>\n",
              "      <td>0</td>\n",
              "      <td>0</td>\n",
              "      <td>0</td>\n",
              "      <td>0</td>\n",
              "      <td>0</td>\n",
              "      <td>0</td>\n",
              "      <td>0</td>\n",
              "      <td>0</td>\n",
              "      <td>0</td>\n",
              "      <td>0</td>\n",
              "      <td>0</td>\n",
              "      <td>0</td>\n",
              "      <td>0</td>\n",
              "      <td>0</td>\n",
              "      <td>0</td>\n",
              "      <td>0</td>\n",
              "      <td>0</td>\n",
              "      <td>...</td>\n",
              "      <td>0</td>\n",
              "      <td>0</td>\n",
              "      <td>0</td>\n",
              "      <td>0</td>\n",
              "      <td>0</td>\n",
              "      <td>0</td>\n",
              "      <td>0</td>\n",
              "      <td>0</td>\n",
              "      <td>0</td>\n",
              "      <td>0</td>\n",
              "      <td>0</td>\n",
              "      <td>0</td>\n",
              "      <td>0</td>\n",
              "      <td>0</td>\n",
              "      <td>0</td>\n",
              "      <td>0</td>\n",
              "      <td>0</td>\n",
              "      <td>0</td>\n",
              "      <td>0</td>\n",
              "      <td>0</td>\n",
              "      <td>0</td>\n",
              "      <td>0</td>\n",
              "      <td>0</td>\n",
              "      <td>0</td>\n",
              "      <td>0</td>\n",
              "      <td>0</td>\n",
              "      <td>0</td>\n",
              "      <td>0</td>\n",
              "      <td>0</td>\n",
              "      <td>0</td>\n",
              "      <td>0</td>\n",
              "      <td>0</td>\n",
              "      <td>0</td>\n",
              "      <td>0</td>\n",
              "      <td>0</td>\n",
              "      <td>0</td>\n",
              "      <td>0</td>\n",
              "      <td>0</td>\n",
              "      <td>0</td>\n",
              "      <td>0</td>\n",
              "    </tr>\n",
              "    <tr>\n",
              "      <th>1</th>\n",
              "      <td>0</td>\n",
              "      <td>0</td>\n",
              "      <td>0</td>\n",
              "      <td>0</td>\n",
              "      <td>0</td>\n",
              "      <td>0</td>\n",
              "      <td>0</td>\n",
              "      <td>0</td>\n",
              "      <td>0</td>\n",
              "      <td>0</td>\n",
              "      <td>0</td>\n",
              "      <td>0</td>\n",
              "      <td>0</td>\n",
              "      <td>0</td>\n",
              "      <td>0</td>\n",
              "      <td>0</td>\n",
              "      <td>0</td>\n",
              "      <td>0</td>\n",
              "      <td>0</td>\n",
              "      <td>0</td>\n",
              "      <td>0</td>\n",
              "      <td>0</td>\n",
              "      <td>0</td>\n",
              "      <td>0</td>\n",
              "      <td>0</td>\n",
              "      <td>0</td>\n",
              "      <td>0</td>\n",
              "      <td>0</td>\n",
              "      <td>0</td>\n",
              "      <td>0</td>\n",
              "      <td>0</td>\n",
              "      <td>0</td>\n",
              "      <td>0</td>\n",
              "      <td>0</td>\n",
              "      <td>0</td>\n",
              "      <td>0</td>\n",
              "      <td>0</td>\n",
              "      <td>0</td>\n",
              "      <td>0</td>\n",
              "      <td>0</td>\n",
              "      <td>...</td>\n",
              "      <td>0</td>\n",
              "      <td>0</td>\n",
              "      <td>0</td>\n",
              "      <td>0</td>\n",
              "      <td>0</td>\n",
              "      <td>0</td>\n",
              "      <td>0</td>\n",
              "      <td>0</td>\n",
              "      <td>0</td>\n",
              "      <td>0</td>\n",
              "      <td>0</td>\n",
              "      <td>0</td>\n",
              "      <td>0</td>\n",
              "      <td>0</td>\n",
              "      <td>0</td>\n",
              "      <td>0</td>\n",
              "      <td>0</td>\n",
              "      <td>0</td>\n",
              "      <td>0</td>\n",
              "      <td>0</td>\n",
              "      <td>0</td>\n",
              "      <td>0</td>\n",
              "      <td>0</td>\n",
              "      <td>0</td>\n",
              "      <td>0</td>\n",
              "      <td>0</td>\n",
              "      <td>0</td>\n",
              "      <td>0</td>\n",
              "      <td>0</td>\n",
              "      <td>0</td>\n",
              "      <td>0</td>\n",
              "      <td>0</td>\n",
              "      <td>0</td>\n",
              "      <td>0</td>\n",
              "      <td>0</td>\n",
              "      <td>0</td>\n",
              "      <td>0</td>\n",
              "      <td>0</td>\n",
              "      <td>0</td>\n",
              "      <td>0</td>\n",
              "    </tr>\n",
              "    <tr>\n",
              "      <th>2</th>\n",
              "      <td>1</td>\n",
              "      <td>0</td>\n",
              "      <td>0</td>\n",
              "      <td>0</td>\n",
              "      <td>0</td>\n",
              "      <td>0</td>\n",
              "      <td>0</td>\n",
              "      <td>0</td>\n",
              "      <td>0</td>\n",
              "      <td>0</td>\n",
              "      <td>0</td>\n",
              "      <td>0</td>\n",
              "      <td>0</td>\n",
              "      <td>0</td>\n",
              "      <td>0</td>\n",
              "      <td>0</td>\n",
              "      <td>0</td>\n",
              "      <td>0</td>\n",
              "      <td>0</td>\n",
              "      <td>0</td>\n",
              "      <td>0</td>\n",
              "      <td>0</td>\n",
              "      <td>0</td>\n",
              "      <td>0</td>\n",
              "      <td>0</td>\n",
              "      <td>0</td>\n",
              "      <td>0</td>\n",
              "      <td>0</td>\n",
              "      <td>0</td>\n",
              "      <td>0</td>\n",
              "      <td>0</td>\n",
              "      <td>0</td>\n",
              "      <td>0</td>\n",
              "      <td>0</td>\n",
              "      <td>0</td>\n",
              "      <td>0</td>\n",
              "      <td>0</td>\n",
              "      <td>0</td>\n",
              "      <td>0</td>\n",
              "      <td>0</td>\n",
              "      <td>...</td>\n",
              "      <td>0</td>\n",
              "      <td>0</td>\n",
              "      <td>0</td>\n",
              "      <td>0</td>\n",
              "      <td>0</td>\n",
              "      <td>0</td>\n",
              "      <td>0</td>\n",
              "      <td>0</td>\n",
              "      <td>0</td>\n",
              "      <td>0</td>\n",
              "      <td>0</td>\n",
              "      <td>0</td>\n",
              "      <td>0</td>\n",
              "      <td>0</td>\n",
              "      <td>0</td>\n",
              "      <td>0</td>\n",
              "      <td>0</td>\n",
              "      <td>0</td>\n",
              "      <td>0</td>\n",
              "      <td>0</td>\n",
              "      <td>0</td>\n",
              "      <td>0</td>\n",
              "      <td>0</td>\n",
              "      <td>0</td>\n",
              "      <td>0</td>\n",
              "      <td>0</td>\n",
              "      <td>0</td>\n",
              "      <td>0</td>\n",
              "      <td>0</td>\n",
              "      <td>0</td>\n",
              "      <td>0</td>\n",
              "      <td>0</td>\n",
              "      <td>0</td>\n",
              "      <td>0</td>\n",
              "      <td>0</td>\n",
              "      <td>0</td>\n",
              "      <td>0</td>\n",
              "      <td>0</td>\n",
              "      <td>0</td>\n",
              "      <td>0</td>\n",
              "    </tr>\n",
              "    <tr>\n",
              "      <th>3</th>\n",
              "      <td>4</td>\n",
              "      <td>0</td>\n",
              "      <td>0</td>\n",
              "      <td>0</td>\n",
              "      <td>0</td>\n",
              "      <td>0</td>\n",
              "      <td>0</td>\n",
              "      <td>0</td>\n",
              "      <td>0</td>\n",
              "      <td>0</td>\n",
              "      <td>0</td>\n",
              "      <td>0</td>\n",
              "      <td>0</td>\n",
              "      <td>0</td>\n",
              "      <td>0</td>\n",
              "      <td>0</td>\n",
              "      <td>0</td>\n",
              "      <td>0</td>\n",
              "      <td>0</td>\n",
              "      <td>0</td>\n",
              "      <td>0</td>\n",
              "      <td>0</td>\n",
              "      <td>0</td>\n",
              "      <td>0</td>\n",
              "      <td>0</td>\n",
              "      <td>0</td>\n",
              "      <td>0</td>\n",
              "      <td>0</td>\n",
              "      <td>0</td>\n",
              "      <td>0</td>\n",
              "      <td>0</td>\n",
              "      <td>0</td>\n",
              "      <td>0</td>\n",
              "      <td>0</td>\n",
              "      <td>0</td>\n",
              "      <td>0</td>\n",
              "      <td>0</td>\n",
              "      <td>0</td>\n",
              "      <td>0</td>\n",
              "      <td>0</td>\n",
              "      <td>...</td>\n",
              "      <td>0</td>\n",
              "      <td>0</td>\n",
              "      <td>0</td>\n",
              "      <td>0</td>\n",
              "      <td>0</td>\n",
              "      <td>0</td>\n",
              "      <td>0</td>\n",
              "      <td>0</td>\n",
              "      <td>0</td>\n",
              "      <td>0</td>\n",
              "      <td>0</td>\n",
              "      <td>0</td>\n",
              "      <td>0</td>\n",
              "      <td>0</td>\n",
              "      <td>0</td>\n",
              "      <td>0</td>\n",
              "      <td>0</td>\n",
              "      <td>0</td>\n",
              "      <td>0</td>\n",
              "      <td>0</td>\n",
              "      <td>0</td>\n",
              "      <td>0</td>\n",
              "      <td>0</td>\n",
              "      <td>0</td>\n",
              "      <td>0</td>\n",
              "      <td>0</td>\n",
              "      <td>0</td>\n",
              "      <td>0</td>\n",
              "      <td>0</td>\n",
              "      <td>0</td>\n",
              "      <td>0</td>\n",
              "      <td>0</td>\n",
              "      <td>0</td>\n",
              "      <td>0</td>\n",
              "      <td>0</td>\n",
              "      <td>0</td>\n",
              "      <td>0</td>\n",
              "      <td>0</td>\n",
              "      <td>0</td>\n",
              "      <td>0</td>\n",
              "    </tr>\n",
              "    <tr>\n",
              "      <th>4</th>\n",
              "      <td>0</td>\n",
              "      <td>0</td>\n",
              "      <td>0</td>\n",
              "      <td>0</td>\n",
              "      <td>0</td>\n",
              "      <td>0</td>\n",
              "      <td>0</td>\n",
              "      <td>0</td>\n",
              "      <td>0</td>\n",
              "      <td>0</td>\n",
              "      <td>0</td>\n",
              "      <td>0</td>\n",
              "      <td>0</td>\n",
              "      <td>0</td>\n",
              "      <td>0</td>\n",
              "      <td>0</td>\n",
              "      <td>0</td>\n",
              "      <td>0</td>\n",
              "      <td>0</td>\n",
              "      <td>0</td>\n",
              "      <td>0</td>\n",
              "      <td>0</td>\n",
              "      <td>0</td>\n",
              "      <td>0</td>\n",
              "      <td>0</td>\n",
              "      <td>0</td>\n",
              "      <td>0</td>\n",
              "      <td>0</td>\n",
              "      <td>0</td>\n",
              "      <td>0</td>\n",
              "      <td>0</td>\n",
              "      <td>0</td>\n",
              "      <td>0</td>\n",
              "      <td>0</td>\n",
              "      <td>0</td>\n",
              "      <td>0</td>\n",
              "      <td>0</td>\n",
              "      <td>0</td>\n",
              "      <td>0</td>\n",
              "      <td>0</td>\n",
              "      <td>...</td>\n",
              "      <td>0</td>\n",
              "      <td>0</td>\n",
              "      <td>0</td>\n",
              "      <td>0</td>\n",
              "      <td>0</td>\n",
              "      <td>0</td>\n",
              "      <td>0</td>\n",
              "      <td>0</td>\n",
              "      <td>0</td>\n",
              "      <td>0</td>\n",
              "      <td>0</td>\n",
              "      <td>0</td>\n",
              "      <td>0</td>\n",
              "      <td>0</td>\n",
              "      <td>0</td>\n",
              "      <td>0</td>\n",
              "      <td>0</td>\n",
              "      <td>0</td>\n",
              "      <td>0</td>\n",
              "      <td>0</td>\n",
              "      <td>0</td>\n",
              "      <td>0</td>\n",
              "      <td>0</td>\n",
              "      <td>0</td>\n",
              "      <td>0</td>\n",
              "      <td>0</td>\n",
              "      <td>0</td>\n",
              "      <td>0</td>\n",
              "      <td>0</td>\n",
              "      <td>0</td>\n",
              "      <td>0</td>\n",
              "      <td>0</td>\n",
              "      <td>0</td>\n",
              "      <td>0</td>\n",
              "      <td>0</td>\n",
              "      <td>0</td>\n",
              "      <td>0</td>\n",
              "      <td>0</td>\n",
              "      <td>0</td>\n",
              "      <td>0</td>\n",
              "    </tr>\n",
              "  </tbody>\n",
              "</table>\n",
              "<p>5 rows × 785 columns</p>\n",
              "</div>"
            ],
            "text/plain": [
              "   label  pixel0  pixel1  pixel2  ...  pixel780  pixel781  pixel782  pixel783\n",
              "0      1       0       0       0  ...         0         0         0         0\n",
              "1      0       0       0       0  ...         0         0         0         0\n",
              "2      1       0       0       0  ...         0         0         0         0\n",
              "3      4       0       0       0  ...         0         0         0         0\n",
              "4      0       0       0       0  ...         0         0         0         0\n",
              "\n",
              "[5 rows x 785 columns]"
            ]
          },
          "metadata": {
            "tags": []
          },
          "execution_count": 4
        }
      ]
    },
    {
      "cell_type": "markdown",
      "metadata": {
        "id": "ndx1xH-vNK9D"
      },
      "source": [
        "### For reading into numpy arrays"
      ]
    },
    {
      "cell_type": "code",
      "metadata": {
        "id": "nZgsAIZ1NK9E"
      },
      "source": [
        "image_buffer = digits_df.iloc[:,1:].values\n",
        "labels_np = digits_df['label'].values "
      ],
      "execution_count": 5,
      "outputs": []
    },
    {
      "cell_type": "code",
      "metadata": {
        "id": "Jo6I_0U0NK9E",
        "outputId": "a7faf863-a9ea-40a6-869a-fe78391126ac",
        "colab": {
          "base_uri": "https://localhost:8080/"
        }
      },
      "source": [
        "labels_np[0:5]"
      ],
      "execution_count": 6,
      "outputs": [
        {
          "output_type": "execute_result",
          "data": {
            "text/plain": [
              "array([1, 0, 1, 4, 0])"
            ]
          },
          "metadata": {
            "tags": []
          },
          "execution_count": 6
        }
      ]
    },
    {
      "cell_type": "code",
      "metadata": {
        "id": "pcII0W0yNK9F",
        "outputId": "9c57c7a1-5f92-46c8-84cc-c2a1da82f152",
        "colab": {
          "base_uri": "https://localhost:8080/"
        }
      },
      "source": [
        "image_buffer[0:5]"
      ],
      "execution_count": 7,
      "outputs": [
        {
          "output_type": "execute_result",
          "data": {
            "text/plain": [
              "array([[0, 0, 0, ..., 0, 0, 0],\n",
              "       [0, 0, 0, ..., 0, 0, 0],\n",
              "       [0, 0, 0, ..., 0, 0, 0],\n",
              "       [0, 0, 0, ..., 0, 0, 0],\n",
              "       [0, 0, 0, ..., 0, 0, 0]])"
            ]
          },
          "metadata": {
            "tags": []
          },
          "execution_count": 7
        }
      ]
    },
    {
      "cell_type": "code",
      "metadata": {
        "id": "-K5IB6SONK9F",
        "outputId": "9f2036c7-e056-40ed-d87a-585a0ebb1891",
        "colab": {
          "base_uri": "https://localhost:8080/"
        }
      },
      "source": [
        "image_buffer.shape"
      ],
      "execution_count": 8,
      "outputs": [
        {
          "output_type": "execute_result",
          "data": {
            "text/plain": [
              "(42000, 784)"
            ]
          },
          "metadata": {
            "tags": []
          },
          "execution_count": 8
        }
      ]
    },
    {
      "cell_type": "markdown",
      "metadata": {
        "id": "g7MHqc3BNK9F"
      },
      "source": [
        "The images are 28 x 28 pixel images"
      ]
    },
    {
      "cell_type": "markdown",
      "metadata": {
        "id": "xN2u-LDlNK9G"
      },
      "source": [
        "### Verifying images"
      ]
    },
    {
      "cell_type": "code",
      "metadata": {
        "id": "AGzZL5XUNK9G"
      },
      "source": [
        "def print_image( idx ):\n",
        "    plt.imshow( image_buffer[idx].reshape(28, 28));\n",
        "    print( labels_np[idx] )"
      ],
      "execution_count": 9,
      "outputs": []
    },
    {
      "cell_type": "code",
      "metadata": {
        "id": "RmhUeSIXNK9G",
        "outputId": "5c6201ed-4f47-4e63-ce6f-9b6330ef9765",
        "colab": {
          "base_uri": "https://localhost:8080/",
          "height": 282
        }
      },
      "source": [
        "print_image( 10 )"
      ],
      "execution_count": 10,
      "outputs": [
        {
          "output_type": "stream",
          "text": [
            "8\n"
          ],
          "name": "stdout"
        },
        {
          "output_type": "display_data",
          "data": {
            "image/png": "[encoded data removed]",
            "text/plain": [
              "<Figure size 432x288 with 1 Axes>"
            ]
          },
          "metadata": {
            "tags": [],
            "needs_background": "light"
          }
        }
      ]
    },
    {
      "cell_type": "markdown",
      "metadata": {
        "id": "drGBSDZDNK9G"
      },
      "source": [
        "### How images actually look like?"
      ]
    },
    {
      "cell_type": "code",
      "metadata": {
        "id": "bLnWSOu2NK9H"
      },
      "source": [
        "np.set_printoptions(precision=4, linewidth=120)"
      ],
      "execution_count": 11,
      "outputs": []
    },
    {
      "cell_type": "code",
      "metadata": {
        "id": "n8DNAeB1NK9H",
        "outputId": "67a814ad-0308-46ca-ad5b-fd9a1e64e6a9",
        "colab": {
          "base_uri": "https://localhost:8080/"
        }
      },
      "source": [
        "image_buffer[10].reshape(28, 28)[5:28, 5:25]"
      ],
      "execution_count": 12,
      "outputs": [
        {
          "output_type": "execute_result",
          "data": {
            "text/plain": [
              "array([[  0,   0,   0,   0,   0,   0,   0,   0,   0,   0,   0,   0,   0,   0,   0,   0,   0,   0,   0,   0],\n",
              "       [  0,   0,   0,   0,   0,   0,   0,   7,  24,  24,  97, 253, 253, 253, 253, 255, 180,  48,   0,   0],\n",
              "       [  0,   0,   0,   0,   0,   0,  30, 186, 252, 252, 253, 252, 252, 252, 252, 253, 252, 227,  29,   0],\n",
              "       [  0,   0,   0,   0,   0,  38, 155, 252, 252, 252, 253, 252, 252, 227,  79, 222, 252, 252, 129,   0],\n",
              "       [  0,   0,   0,   0,  85, 233, 252, 252, 252, 252, 253, 252, 252, 202,  11, 180, 252, 252, 119,   0],\n",
              "       [  0,   0,   0,  43, 240, 253, 252, 252, 252, 252, 253, 252, 252, 244, 126, 201, 252, 252, 150,   0],\n",
              "       [  0,   0,   7, 212, 253, 255, 253, 253, 253, 232, 221,  42,   0, 104, 253, 255, 253, 205,  21,   0],\n",
              "       [  0,   0,  25, 223, 252, 253, 252, 252, 214,  18,   0,   0,  34, 215, 252, 253, 223,  56,   0,   0],\n",
              "       [  0,   0,   0,  99, 246, 253, 252, 252,  77,   0,   7,  70, 203, 252, 252, 173,  25,   0,   0,   0],\n",
              "       [  0,   0,   0,   0,  42, 253, 252, 252, 236, 103, 160, 252, 252, 218, 108,   0,   0,   0,   0,   0],\n",
              "       [  0,   0,   0,   0,   0, 148, 252, 252, 252, 252, 253, 231, 106,  14,   0,   0,   0,   0,   0,   0],\n",
              "       [  0,   0,   0,   0,   0,  24, 253, 253, 253, 253, 255, 159,   7,   0,   0,   0,   0,   0,   0,   0],\n",
              "       [  0,   0,   0,   0,  43, 118, 252, 240, 244, 252, 253, 231,  37,   0,   0,   0,   0,   0,   0,   0],\n",
              "       [  0,   0,  19, 164, 246, 253, 187,  50,  99, 246, 253, 252,  69,   0,   0,   0,   0,   0,   0,   0],\n",
              "       [  0,   0,  80, 232, 252, 203,  58,   0,   0, 135, 253, 252, 121,   0,   0,   0,   0,   0,   0,   0],\n",
              "       [  0,  43, 246, 252, 200,  11,   0,   0,   0, 116, 253, 252,  69,   0,   0,   0,   0,   0,   0,   0],\n",
              "       [  0, 162, 253, 192,  11,   0,   0,   0,   0, 179, 255, 253,  69,   0,   0,   0,   0,   0,   0,   0],\n",
              "       [  5, 178, 252, 119,   0,   5,  47,  47, 140, 244, 253, 252,  69,   0,   0,   0,   0,   0,   0,   0],\n",
              "       [  7, 186, 252, 227, 184, 191, 252, 252, 252, 252, 253, 240,  50,   0,   0,   0,   0,   0,   0,   0],\n",
              "       [ 11, 144, 227, 252, 252, 253, 252, 252, 252, 252,  98,  37,   0,   0,   0,   0,   0,   0,   0,   0],\n",
              "       [  0,   0,  48, 137, 242, 253, 231, 137, 137,  32,   0,   0,   0,   0,   0,   0,   0,   0,   0,   0],\n",
              "       [  0,   0,   0,   0,   0,   0,   0,   0,   0,   0,   0,   0,   0,   0,   0,   0,   0,   0,   0,   0],\n",
              "       [  0,   0,   0,   0,   0,   0,   0,   0,   0,   0,   0,   0,   0,   0,   0,   0,   0,   0,   0,   0]])"
            ]
          },
          "metadata": {
            "tags": []
          },
          "execution_count": 12
        }
      ]
    },
    {
      "cell_type": "markdown",
      "metadata": {
        "id": "b42JKgzdNK9H"
      },
      "source": [
        "### Checking shape of the image file"
      ]
    },
    {
      "cell_type": "code",
      "metadata": {
        "id": "tY7LE5NSNK9H",
        "outputId": "516d817f-038e-49fa-a81c-f333e3989b72",
        "colab": {
          "base_uri": "https://localhost:8080/"
        }
      },
      "source": [
        "image_buffer[0].shape"
      ],
      "execution_count": 13,
      "outputs": [
        {
          "output_type": "execute_result",
          "data": {
            "text/plain": [
              "(784,)"
            ]
          },
          "metadata": {
            "tags": []
          },
          "execution_count": 13
        }
      ]
    },
    {
      "cell_type": "markdown",
      "metadata": {
        "id": "QCwS_aE0NK9I"
      },
      "source": [
        "### Reshaping all images"
      ]
    },
    {
      "cell_type": "code",
      "metadata": {
        "id": "xQcwjNsNNK9I"
      },
      "source": [
        "reshaped_images = np.array([x.reshape( 28, 28) for x in image_buffer])"
      ],
      "execution_count": 14,
      "outputs": []
    },
    {
      "cell_type": "code",
      "metadata": {
        "id": "Bjqx3LkgNK9I",
        "outputId": "3af800bb-0198-414f-c169-f5e37cd343d7",
        "colab": {
          "base_uri": "https://localhost:8080/"
        }
      },
      "source": [
        "reshaped_images.shape"
      ],
      "execution_count": 15,
      "outputs": [
        {
          "output_type": "execute_result",
          "data": {
            "text/plain": [
              "(42000, 28, 28)"
            ]
          },
          "metadata": {
            "tags": []
          },
          "execution_count": 15
        }
      ]
    },
    {
      "cell_type": "code",
      "metadata": {
        "id": "fAe2abKDNK9I",
        "outputId": "f54efcbb-06d7-4c58-d7e2-7ca3b4a578db",
        "colab": {
          "base_uri": "https://localhost:8080/",
          "height": 265
        }
      },
      "source": [
        "plt.imshow(reshaped_images[0]);"
      ],
      "execution_count": 16,
      "outputs": [
        {
          "output_type": "display_data",
          "data": {
            "image/png": "[encoded data removed]",
            "text/plain": [
              "<Figure size 432x288 with 1 Axes>"
            ]
          },
          "metadata": {
            "tags": [],
            "needs_background": "light"
          }
        }
      ]
    },
    {
      "cell_type": "markdown",
      "metadata": {
        "id": "_bZRYSCNNK9J"
      },
      "source": [
        "## Classifying Digits"
      ]
    },
    {
      "cell_type": "markdown",
      "metadata": {
        "id": "X6fMqBw6NK9J"
      },
      "source": [
        "### Importing all required libraries"
      ]
    },
    {
      "cell_type": "code",
      "metadata": {
        "id": "IFamJKgGNK9J"
      },
      "source": [
        "import warnings\n",
        "warnings.filterwarnings('ignore')"
      ],
      "execution_count": 17,
      "outputs": []
    },
    {
      "cell_type": "code",
      "metadata": {
        "id": "pbh3FfHnNK9J"
      },
      "source": [
        "import tensorflow as tf\n",
        "from tensorflow import keras\n",
        "from keras import backend as K"
      ],
      "execution_count": 18,
      "outputs": []
    },
    {
      "cell_type": "code",
      "metadata": {
        "id": "gi6yGKb9NK9J",
        "outputId": "0af4c8ce-8110-4416-b3d1-0f7393f988df",
        "colab": {
          "base_uri": "https://localhost:8080/"
        }
      },
      "source": [
        "print(tf.__version__)\n",
        "print(keras.__version__)"
      ],
      "execution_count": 19,
      "outputs": [
        {
          "output_type": "stream",
          "text": [
            "2.5.0\n",
            "2.5.0\n"
          ],
          "name": "stdout"
        }
      ]
    },
    {
      "cell_type": "markdown",
      "metadata": {
        "id": "d_voVLtTNK9K"
      },
      "source": [
        "### Set X and Y"
      ]
    },
    {
      "cell_type": "code",
      "metadata": {
        "id": "gsCgCO2HNK9K"
      },
      "source": [
        "X = reshaped_images"
      ],
      "execution_count": 20,
      "outputs": []
    },
    {
      "cell_type": "code",
      "metadata": {
        "id": "rCkearq2NK9K"
      },
      "source": [
        "y = keras.utils.to_categorical( labels_np )"
      ],
      "execution_count": 21,
      "outputs": []
    },
    {
      "cell_type": "code",
      "metadata": {
        "id": "9WUu_HWQNK9K",
        "outputId": "f648985c-7309-4d77-fde2-5ebc2b1b8414",
        "colab": {
          "base_uri": "https://localhost:8080/"
        }
      },
      "source": [
        "y"
      ],
      "execution_count": 22,
      "outputs": [
        {
          "output_type": "execute_result",
          "data": {
            "text/plain": [
              "array([[0., 1., 0., ..., 0., 0., 0.],\n",
              "       [1., 0., 0., ..., 0., 0., 0.],\n",
              "       [0., 1., 0., ..., 0., 0., 0.],\n",
              "       ...,\n",
              "       [0., 0., 0., ..., 1., 0., 0.],\n",
              "       [0., 0., 0., ..., 0., 0., 0.],\n",
              "       [0., 0., 0., ..., 0., 0., 1.]], dtype=float32)"
            ]
          },
          "metadata": {
            "tags": []
          },
          "execution_count": 22
        }
      ]
    },
    {
      "cell_type": "markdown",
      "metadata": {
        "id": "neeRvwaGNK9L"
      },
      "source": [
        "### Splitting datasets into train and test"
      ]
    },
    {
      "cell_type": "code",
      "metadata": {
        "id": "GJghakYbNK9L"
      },
      "source": [
        "from sklearn.model_selection import train_test_split"
      ],
      "execution_count": 23,
      "outputs": []
    },
    {
      "cell_type": "code",
      "metadata": {
        "id": "UyfLR9rxNK9L"
      },
      "source": [
        "X_train, X_test, y_train, y_test = train_test_split( X, \n",
        "                                                     y,\n",
        "                                                     test_size = 0.2,\n",
        "                                                     random_state = 42 )"
      ],
      "execution_count": 24,
      "outputs": []
    },
    {
      "cell_type": "code",
      "metadata": {
        "id": "fXjpRsRANK9L",
        "outputId": "ed14d52e-9ccc-46c5-8ead-f396927851fa",
        "colab": {
          "base_uri": "https://localhost:8080/"
        }
      },
      "source": [
        "X_train.shape"
      ],
      "execution_count": 25,
      "outputs": [
        {
          "output_type": "execute_result",
          "data": {
            "text/plain": [
              "(33600, 28, 28)"
            ]
          },
          "metadata": {
            "tags": []
          },
          "execution_count": 25
        }
      ]
    },
    {
      "cell_type": "code",
      "metadata": {
        "id": "og85b1G6NK9L",
        "outputId": "3036e402-dd20-46b3-bb0e-a92ed0ecd3b6",
        "colab": {
          "base_uri": "https://localhost:8080/"
        }
      },
      "source": [
        "X_test.shape"
      ],
      "execution_count": 26,
      "outputs": [
        {
          "output_type": "execute_result",
          "data": {
            "text/plain": [
              "(8400, 28, 28)"
            ]
          },
          "metadata": {
            "tags": []
          },
          "execution_count": 26
        }
      ]
    },
    {
      "cell_type": "code",
      "metadata": {
        "id": "EBgvDNGkNK9M",
        "outputId": "e57430ce-4fbe-4bf7-c836-7f3254aca376",
        "colab": {
          "base_uri": "https://localhost:8080/"
        }
      },
      "source": [
        "y_train.shape"
      ],
      "execution_count": 27,
      "outputs": [
        {
          "output_type": "execute_result",
          "data": {
            "text/plain": [
              "(33600, 10)"
            ]
          },
          "metadata": {
            "tags": []
          },
          "execution_count": 27
        }
      ]
    },
    {
      "cell_type": "code",
      "metadata": {
        "id": "hufoDJoyNK9M",
        "outputId": "75e8a933-66e3-4a33-8749-9bf315335e2f",
        "colab": {
          "base_uri": "https://localhost:8080/"
        }
      },
      "source": [
        "y_test.shape"
      ],
      "execution_count": 28,
      "outputs": [
        {
          "output_type": "execute_result",
          "data": {
            "text/plain": [
              "(8400, 10)"
            ]
          },
          "metadata": {
            "tags": []
          },
          "execution_count": 28
        }
      ]
    },
    {
      "cell_type": "code",
      "metadata": {
        "id": "jgxwSBjKNK9M"
      },
      "source": [
        "input_shape = X_train.shape[-2:]"
      ],
      "execution_count": 29,
      "outputs": []
    },
    {
      "cell_type": "code",
      "metadata": {
        "id": "9wkwWjplNK9M",
        "outputId": "37d77c48-1618-4819-d805-724b0ad2dfc8",
        "colab": {
          "base_uri": "https://localhost:8080/"
        }
      },
      "source": [
        "print(input_shape)"
      ],
      "execution_count": 30,
      "outputs": [
        {
          "output_type": "stream",
          "text": [
            "(28, 28)\n"
          ],
          "name": "stdout"
        }
      ]
    },
    {
      "cell_type": "markdown",
      "metadata": {
        "id": "IzdneJj0NK9M"
      },
      "source": [
        "### Train a model"
      ]
    },
    {
      "cell_type": "code",
      "metadata": {
        "id": "OZ9-IkiyNK9M"
      },
      "source": [
        "# import necessary building blocks\n",
        "from keras.models import Sequential\n",
        "from keras.layers import Flatten, Dense, Activation"
      ],
      "execution_count": 31,
      "outputs": []
    },
    {
      "cell_type": "markdown",
      "metadata": {
        "id": "Io2sqw6ENK9N"
      },
      "source": [
        "### Neural Networks Architecture \n",
        "\n",
        "- Layer\n",
        "- Neurons\n",
        "- Activation"
      ]
    },
    {
      "cell_type": "markdown",
      "metadata": {
        "id": "QxRiDAYJNK9N"
      },
      "source": [
        "## Model 1"
      ]
    },
    {
      "cell_type": "code",
      "metadata": {
        "id": "ClX_KRIvNK9N"
      },
      "source": [
        "model = Sequential()\n",
        "\n",
        "model.add(Dense(64, input_shape=input_shape))\n",
        "# An \"activation\" is just a non-linear function applied to the output\n",
        "# of the layer above. Here, with a \"rectified linear unit\",\n",
        "# we clamp all values below 0 to 0.\n",
        "model.add(Flatten())\n",
        "\n",
        "model.add(Activation('relu'))\n",
        "\n",
        "model.add(Dense(32))\n",
        "model.add(Activation('relu'))\n",
        "\n",
        "model.add(Dense(16))\n",
        "model.add(Activation('relu'))\n",
        "\n",
        "model.add(Dense(10))\n",
        "# This special \"softmax\" activation among other things,\n",
        "# ensures the output is a valid probaility distribution, that is\n",
        "# that its values are all non-negative and sum to 1.\n",
        "model.add(Activation('softmax'))"
      ],
      "execution_count": 32,
      "outputs": []
    },
    {
      "cell_type": "markdown",
      "metadata": {
        "id": "dx0tEekLNK9N"
      },
      "source": [
        "### Explain number of parameters need to be trainined\n",
        "\n",
        "- All the links (compute)"
      ]
    },
    {
      "cell_type": "code",
      "metadata": {
        "id": "c5Ov5o7zNK9N",
        "outputId": "8d30b3ed-8d99-4cdb-8ea0-1fe4d828a661",
        "colab": {
          "base_uri": "https://localhost:8080/"
        }
      },
      "source": [
        "model.summary()"
      ],
      "execution_count": 33,
      "outputs": [
        {
          "output_type": "stream",
          "text": [
            "Model: \"sequential\"\n",
            "_________________________________________________________________\n",
            "Layer (type)                 Output Shape              Param #   \n",
            "=================================================================\n",
            "dense (Dense)                (None, 28, 64)            1856      \n",
            "_________________________________________________________________\n",
            "flatten (Flatten)            (None, 1792)              0         \n",
            "_________________________________________________________________\n",
            "activation (Activation)      (None, 1792)              0         \n",
            "_________________________________________________________________\n",
            "dense_1 (Dense)              (None, 32)                57376     \n",
            "_________________________________________________________________\n",
            "activation_1 (Activation)    (None, 32)                0         \n",
            "_________________________________________________________________\n",
            "dense_2 (Dense)              (None, 16)                528       \n",
            "_________________________________________________________________\n",
            "activation_2 (Activation)    (None, 16)                0         \n",
            "_________________________________________________________________\n",
            "dense_3 (Dense)              (None, 10)                170       \n",
            "_________________________________________________________________\n",
            "activation_3 (Activation)    (None, 10)                0         \n",
            "=================================================================\n",
            "Total params: 59,930\n",
            "Trainable params: 59,930\n",
            "Non-trainable params: 0\n",
            "_________________________________________________________________\n"
          ],
          "name": "stdout"
        }
      ]
    },
    {
      "cell_type": "markdown",
      "metadata": {
        "id": "PHDheppCNK9O"
      },
      "source": [
        "### Loss Function"
      ]
    },
    {
      "cell_type": "markdown",
      "metadata": {
        "id": "IzW3WWJwNK9O"
      },
      "source": [
        "### Gradient Descent\n",
        "\n",
        "- Learning Rate\n",
        "- Optimizers"
      ]
    },
    {
      "cell_type": "code",
      "metadata": {
        "id": "8yl2j3d9NK9O"
      },
      "source": [
        "model.compile(loss='categorical_crossentropy', \n",
        "              optimizer='adam', \n",
        "              metrics=['accuracy'])"
      ],
      "execution_count": 34,
      "outputs": []
    },
    {
      "cell_type": "markdown",
      "metadata": {
        "id": "h99DHF3pNK9O"
      },
      "source": [
        "### Training Model\n",
        "\n",
        "- Epochs\n",
        "- Batch Size"
      ]
    },
    {
      "cell_type": "code",
      "metadata": {
        "id": "YUIezgDxNK9O"
      },
      "source": [
        "EPOCHS = 20\n",
        "BATCH_SIZE = 128"
      ],
      "execution_count": null,
      "outputs": []
    },
    {
      "cell_type": "code",
      "metadata": {
        "id": "PqxkkMosNK9O",
        "outputId": "883ae555-6e79-4072-afb9-adfb6b31c237",
        "colab": {
          "base_uri": "https://localhost:8080/"
        }
      },
      "source": [
        "%%time \n",
        "# fit model\n",
        "history = model.fit(\n",
        "    X_train, \n",
        "    y_train,  # prepared data\n",
        "    batch_size = BATCH_SIZE,\n",
        "    epochs = EPOCHS,\n",
        "    validation_split = 0.3,\n",
        "    shuffle = True,\n",
        "    verbose=1,\n",
        ")"
      ],
      "execution_count": 36,
      "outputs": [
        {
          "output_type": "stream",
          "text": [
            "Epoch 1/10\n",
            "184/184 [==============================] - 17s 9ms/step - loss: 4.5503 - accuracy: 0.1659 - val_loss: 2.0749 - val_accuracy: 0.2114\n",
            "Epoch 2/10\n",
            "184/184 [==============================] - 1s 5ms/step - loss: 2.0500 - accuracy: 0.2087 - val_loss: 2.0526 - val_accuracy: 0.2123\n",
            "Epoch 3/10\n",
            "184/184 [==============================] - 1s 5ms/step - loss: 2.0348 - accuracy: 0.2127 - val_loss: 1.9243 - val_accuracy: 0.2771\n",
            "Epoch 4/10\n",
            "184/184 [==============================] - 1s 5ms/step - loss: 1.8996 - accuracy: 0.2768 - val_loss: 1.8163 - val_accuracy: 0.3025\n",
            "Epoch 5/10\n",
            "184/184 [==============================] - 1s 5ms/step - loss: 1.7889 - accuracy: 0.3036 - val_loss: 1.7072 - val_accuracy: 0.3534\n",
            "Epoch 6/10\n",
            "184/184 [==============================] - 1s 6ms/step - loss: 1.6067 - accuracy: 0.3868 - val_loss: 1.5089 - val_accuracy: 0.4222\n",
            "Epoch 7/10\n",
            "184/184 [==============================] - 1s 5ms/step - loss: 1.4283 - accuracy: 0.4428 - val_loss: 1.1256 - val_accuracy: 0.6024\n",
            "Epoch 8/10\n",
            "184/184 [==============================] - 1s 5ms/step - loss: 0.9967 - accuracy: 0.6528 - val_loss: 0.8839 - val_accuracy: 0.6927\n",
            "Epoch 9/10\n",
            "184/184 [==============================] - 1s 5ms/step - loss: 0.8087 - accuracy: 0.7180 - val_loss: 0.7674 - val_accuracy: 0.7522\n",
            "Epoch 10/10\n",
            "184/184 [==============================] - 1s 5ms/step - loss: 0.6606 - accuracy: 0.7792 - val_loss: 0.7054 - val_accuracy: 0.7857\n",
            "CPU times: user 26.2 s, sys: 2.23 s, total: 28.5 s\n",
            "Wall time: 34.9 s\n"
          ],
          "name": "stdout"
        }
      ]
    },
    {
      "cell_type": "code",
      "metadata": {
        "id": "dXsbuhdSNK9P"
      },
      "source": [
        "# summarize history for accuracy\n",
        "\n",
        "def plot_accuracy(hist):\n",
        "    plt.plot(hist['accuracy'])\n",
        "    plt.plot(hist['val_accuracy'])\n",
        "    plt.title('model accuracy')\n",
        "    plt.ylabel('accuracy')\n",
        "    plt.xlabel('epoch')\n",
        "    plt.legend(['train', 'test'], loc='upper left')\n",
        "    plt.show()"
      ],
      "execution_count": 37,
      "outputs": []
    },
    {
      "cell_type": "code",
      "metadata": {
        "id": "AP6Bj_pVNK9P"
      },
      "source": [
        "# summarize history for loss\n",
        "\n",
        "def plot_loss(hist):\n",
        "    plt.plot(hist['loss'])\n",
        "    plt.plot(hist['val_loss'])\n",
        "    plt.title('model loss')\n",
        "    plt.ylabel('loss')\n",
        "    plt.xlabel('epoch')\n",
        "    plt.legend(['train', 'test'], loc='upper left')\n",
        "    plt.show()"
      ],
      "execution_count": 38,
      "outputs": []
    },
    {
      "cell_type": "code",
      "metadata": {
        "id": "n8VBV7aKNK9P",
        "outputId": "e50206d9-0f8f-4ae6-831d-17317ed09d81",
        "colab": {
          "base_uri": "https://localhost:8080/",
          "height": 295
        }
      },
      "source": [
        "plot_accuracy(history.history)"
      ],
      "execution_count": 39,
      "outputs": [
        {
          "output_type": "display_data",
          "data": {
            "image/png": "[encoded data removed]",
            "text/plain": [
              "<Figure size 432x288 with 1 Axes>"
            ]
          },
          "metadata": {
            "tags": [],
            "needs_background": "light"
          }
        }
      ]
    },
    {
      "cell_type": "code",
      "metadata": {
        "id": "SzoKkTvWNK9P",
        "outputId": "a2bc66f7-0725-4fd7-ce12-06119235c18b",
        "colab": {
          "base_uri": "https://localhost:8080/",
          "height": 295
        }
      },
      "source": [
        "plot_loss(history.history)"
      ],
      "execution_count": 40,
      "outputs": [
        {
          "output_type": "display_data",
          "data": {
            "image/png": "[encoded data removed]",
            "text/plain": [
              "<Figure size 432x288 with 1 Axes>"
            ]
          },
          "metadata": {
            "tags": [],
            "needs_background": "light"
          }
        }
      ]
    },
    {
      "cell_type": "markdown",
      "metadata": {
        "id": "rRgZ9YkgNK9Q"
      },
      "source": [
        "### Predict and Evaluate"
      ]
    },
    {
      "cell_type": "code",
      "metadata": {
        "id": "04cqn1s9NK9Q",
        "outputId": "6365df1e-2ca5-489c-b5aa-2ca28437be27",
        "colab": {
          "base_uri": "https://localhost:8080/"
        }
      },
      "source": [
        "score = model.evaluate(X_test, y_test)\n",
        "print()\n",
        "print('Test accuracy: ', score[1])"
      ],
      "execution_count": 41,
      "outputs": [
        {
          "output_type": "stream",
          "text": [
            "263/263 [==============================] - 1s 3ms/step - loss: 0.7006 - accuracy: 0.7881\n",
            "\n",
            "Test accuracy:  0.788095235824585\n"
          ],
          "name": "stdout"
        }
      ]
    },
    {
      "cell_type": "code",
      "metadata": {
        "id": "oFIahRcWNK9Q"
      },
      "source": [
        "predictions = model.predict_classes(X_test)\n",
        "\n",
        "predictions = list(predictions)"
      ],
      "execution_count": 42,
      "outputs": []
    },
    {
      "cell_type": "markdown",
      "metadata": {
        "id": "J76tMddANK9Q"
      },
      "source": [
        "### Verifying Predictions"
      ]
    },
    {
      "cell_type": "code",
      "metadata": {
        "id": "aDHDF00xNK9Q",
        "outputId": "7bdcff00-9263-4b3a-ba07-2a7808489a88",
        "colab": {
          "base_uri": "https://localhost:8080/",
          "height": 282
        }
      },
      "source": [
        "plt.imshow(X_test[0])"
      ],
      "execution_count": 43,
      "outputs": [
        {
          "output_type": "execute_result",
          "data": {
            "text/plain": [
              "<matplotlib.image.AxesImage at 0x7f67d015d950>"
            ]
          },
          "metadata": {
            "tags": []
          },
          "execution_count": 43
        },
        {
          "output_type": "display_data",
          "data": {
            "image/png": "[encoded data removed]",
            "text/plain": [
              "<Figure size 432x288 with 1 Axes>"
            ]
          },
          "metadata": {
            "tags": [],
            "needs_background": "light"
          }
        }
      ]
    },
    {
      "cell_type": "code",
      "metadata": {
        "id": "xKGuhKG1NK9R",
        "outputId": "05c3dfd7-dacb-4502-acec-e2fc8f678f53",
        "colab": {
          "base_uri": "https://localhost:8080/"
        }
      },
      "source": [
        "predictions[0]"
      ],
      "execution_count": 44,
      "outputs": [
        {
          "output_type": "execute_result",
          "data": {
            "text/plain": [
              "8"
            ]
          },
          "metadata": {
            "tags": []
          },
          "execution_count": 44
        }
      ]
    },
    {
      "cell_type": "code",
      "metadata": {
        "id": "ls0SQ0JiNK9R",
        "outputId": "955bc1a6-3282-4fec-cd97-cde58bb3db5e",
        "colab": {
          "base_uri": "https://localhost:8080/"
        }
      },
      "source": [
        "len(X_test)"
      ],
      "execution_count": 45,
      "outputs": [
        {
          "output_type": "execute_result",
          "data": {
            "text/plain": [
              "8400"
            ]
          },
          "metadata": {
            "tags": []
          },
          "execution_count": 45
        }
      ]
    },
    {
      "cell_type": "markdown",
      "metadata": {
        "id": "5E4rbKC5NK9R"
      },
      "source": [
        "### Randomly show a set of images and predictions"
      ]
    },
    {
      "cell_type": "code",
      "metadata": {
        "id": "RJihN9OINK9R"
      },
      "source": [
        "import random \n",
        "\n",
        "all_indexes = list(range(len(X_test)))\n",
        "test_indexes = random.sample( all_indexes, 15 )"
      ],
      "execution_count": 46,
      "outputs": []
    },
    {
      "cell_type": "code",
      "metadata": {
        "id": "cyutygRyNK9R",
        "outputId": "ecdb5586-badd-4f9f-8d06-d8bd75545244",
        "colab": {
          "base_uri": "https://localhost:8080/",
          "height": 111
        }
      },
      "source": [
        "k = 1\n",
        "plt.figure( figsize=(15, 6))\n",
        "for i in test_indexes:\n",
        "    plt.subplot(1, 15, k);\n",
        "    plt.imshow(X_test[i])\n",
        "    plt.title(str(predictions[i]))\n",
        "    k = k + 1\n",
        "plt.show()"
      ],
      "execution_count": 47,
      "outputs": [
        {
          "output_type": "display_data",
          "data": {
            "image/png": "[encoded data removed]",
            "text/plain": [
              "<Figure size 1080x432 with 15 Axes>"
            ]
          },
          "metadata": {
            "tags": [],
            "needs_background": "light"
          }
        }
      ]
    },
    {
      "cell_type": "markdown",
      "metadata": {
        "id": "i6qp-NWJNK9S"
      },
      "source": [
        "### Confusion Matrix"
      ]
    },
    {
      "cell_type": "code",
      "metadata": {
        "id": "O2CUkNPsNK9S"
      },
      "source": [
        "np_label_list = list(np.unique(labels_np))"
      ],
      "execution_count": 48,
      "outputs": []
    },
    {
      "cell_type": "code",
      "metadata": {
        "id": "birzj1ftNK9S"
      },
      "source": [
        "from sklearn.metrics import confusion_matrix"
      ],
      "execution_count": 49,
      "outputs": []
    },
    {
      "cell_type": "code",
      "metadata": {
        "id": "A31KPu_DNK9S"
      },
      "source": [
        "y_pred_classes = model.predict_classes(X_test)"
      ],
      "execution_count": 50,
      "outputs": []
    },
    {
      "cell_type": "code",
      "metadata": {
        "id": "HPJnBmAaNK9T"
      },
      "source": [
        "y_actual_classes = np.argmax(y_test, axis=1)"
      ],
      "execution_count": 51,
      "outputs": []
    },
    {
      "cell_type": "code",
      "metadata": {
        "id": "O3mUe9SYNK9T",
        "outputId": "240b59ad-f34c-459a-a5fc-0a913a8b46b1",
        "colab": {
          "base_uri": "https://localhost:8080/"
        }
      },
      "source": [
        "y_pred_classes"
      ],
      "execution_count": 52,
      "outputs": [
        {
          "output_type": "execute_result",
          "data": {
            "text/plain": [
              "array([8, 1, 9, ..., 2, 0, 9])"
            ]
          },
          "metadata": {
            "tags": []
          },
          "execution_count": 52
        }
      ]
    },
    {
      "cell_type": "code",
      "metadata": {
        "id": "aklH5uJoNK9T",
        "outputId": "1fffacad-99ff-4256-9d06-fac59e3cf504",
        "colab": {
          "base_uri": "https://localhost:8080/"
        }
      },
      "source": [
        "y_actual_classes"
      ],
      "execution_count": 53,
      "outputs": [
        {
          "output_type": "execute_result",
          "data": {
            "text/plain": [
              "array([8, 1, 9, ..., 3, 0, 9])"
            ]
          },
          "metadata": {
            "tags": []
          },
          "execution_count": 53
        }
      ]
    },
    {
      "cell_type": "code",
      "metadata": {
        "id": "OqR-SyAqNK9U",
        "outputId": "ea966835-eee4-4c88-b3cf-44059c094e67",
        "colab": {
          "base_uri": "https://localhost:8080/"
        }
      },
      "source": [
        "confusion_matrix(y_pred_classes, y_actual_classes)"
      ],
      "execution_count": 54,
      "outputs": [
        {
          "output_type": "execute_result",
          "data": {
            "text/plain": [
              "array([[768,   0,   1,   3,   1,  72,   3,   2,   5,   1],\n",
              "       [  0, 881,   0,   6,   0,   0,   0,   7,   2,   2],\n",
              "       [ 21,   8, 760, 303,  16,   7,  17,  24,   4,   2],\n",
              "       [  2,  14,  54, 511,   2,  59,   9,  17, 112,  12],\n",
              "       [  0,   1,   7,   7, 797,   3,   1,  55,   5, 108],\n",
              "       [ 15,   0,   4,   1,   0,  88,   8,   0,  25,   1],\n",
              "       [  4,   1,   7,   0,   2,  25, 739,   1,  11,   0],\n",
              "       [  1,   1,   6,   2,   1,   1,   1, 737,   4,  15],\n",
              "       [  5,   2,   7,  98,   1, 444,   7,   5, 660,  18],\n",
              "       [  0,   1,   0,   6,  19,   3,   0,  45,   7, 679]])"
            ]
          },
          "metadata": {
            "tags": []
          },
          "execution_count": 54
        }
      ]
    },
    {
      "cell_type": "code",
      "metadata": {
        "id": "CHSNKUgHNK9U"
      },
      "source": [
        "import seaborn as sn"
      ],
      "execution_count": 55,
      "outputs": []
    },
    {
      "cell_type": "code",
      "metadata": {
        "id": "6VOGVf_LNK9U"
      },
      "source": [
        "def plot_confustion_matrix(y_test, y_pred):\n",
        "    plt.figure(figsize=(10, 8))\n",
        "    plt.title('Confusion matrix', fontsize=16)\n",
        "    cm = confusion_matrix(y_test, y_pred, np_label_list)\n",
        "    sn.heatmap(cm, annot=True,  fmt='.2f', \n",
        "               xticklabels = np_label_list, \n",
        "               yticklabels = np_label_list )\n",
        "    plt.ylabel('True label')\n",
        "    plt.xlabel('Predicted label')\n",
        "    plt.show()\n",
        "    plt.show()"
      ],
      "execution_count": 56,
      "outputs": []
    },
    {
      "cell_type": "code",
      "metadata": {
        "id": "BzZyVas0NK9V",
        "outputId": "f6c5c5da-1e96-40e5-f0bc-ae9f46058a13",
        "colab": {
          "base_uri": "https://localhost:8080/",
          "height": 515
        }
      },
      "source": [
        "plot_confustion_matrix(y_pred_classes, y_actual_classes)"
      ],
      "execution_count": 57,
      "outputs": [
        {
          "output_type": "display_data",
          "data": {
            "image/png": "[encoded data removed]",
            "text/plain": [
              "<Figure size 720x576 with 2 Axes>"
            ]
          },
          "metadata": {
            "tags": [],
            "needs_background": "light"
          }
        }
      ]
    },
    {
      "cell_type": "markdown",
      "metadata": {
        "collapsed": true,
        "id": "2fANa-e_NK9V"
      },
      "source": [
        "### Exercise: Build a deeper model\n",
        "\n",
        "- Add one more layers with 128 neurons"
      ]
    },
    {
      "cell_type": "markdown",
      "metadata": {
        "id": "7taNUDdPNK9W"
      },
      "source": [
        "# Convolution Neural Networks (CNN)\n",
        "## What is Convolution?\n",
        "\n",
        "Convolutions Demo:\n",
        "\n",
        "- https://setosa.io/ev/image-kernels/\n",
        "\n",
        "- https://ml4a.github.io/demos/convolution_all/\n",
        "\n",
        "\n",
        "- Filter\n",
        "- Kernel Size"
      ]
    },
    {
      "cell_type": "code",
      "metadata": {
        "id": "j4AW8ajmNK9W",
        "outputId": "a9f288b2-a378-40c7-fb99-83008749a03f",
        "colab": {
          "base_uri": "https://localhost:8080/",
          "height": 265
        }
      },
      "source": [
        "plt.grid(False)\n",
        "plt.imshow( image_buffer[10].reshape(28, 28));"
      ],
      "execution_count": 58,
      "outputs": [
        {
          "output_type": "display_data",
          "data": {
            "image/png": "[encoded data removed]",
            "text/plain": [
              "<Figure size 432x288 with 1 Axes>"
            ]
          },
          "metadata": {
            "tags": [],
            "needs_background": "light"
          }
        }
      ]
    },
    {
      "cell_type": "code",
      "metadata": {
        "id": "jjvFO8cqNK9W",
        "outputId": "827a7a8e-6008-4cc2-eb8c-c1c3c168366e",
        "colab": {
          "base_uri": "https://localhost:8080/",
          "height": 269
        }
      },
      "source": [
        "top=[[ 1, 1, 1],\n",
        "     [ 0, 0, 0],     \n",
        "     [ -1, -1, -1]]\n",
        "plt.grid(False)\n",
        "plt.imshow(top);"
      ],
      "execution_count": 59,
      "outputs": [
        {
          "output_type": "display_data",
          "data": {
            "image/png": "[encoded data removed]",
            "text/plain": [
              "<Figure size 432x288 with 1 Axes>"
            ]
          },
          "metadata": {
            "tags": [],
            "needs_background": "light"
          }
        }
      ]
    },
    {
      "cell_type": "code",
      "metadata": {
        "collapsed": true,
        "id": "73a6cteJNK9X"
      },
      "source": [
        "from scipy.ndimage.filters import correlate, convolve"
      ],
      "execution_count": 60,
      "outputs": []
    },
    {
      "cell_type": "code",
      "metadata": {
        "id": "ltxfJqHTNK9X",
        "outputId": "10867f9a-2383-41fb-fa04-ba113f0f2a6f",
        "colab": {
          "base_uri": "https://localhost:8080/",
          "height": 265
        }
      },
      "source": [
        "convtop = convolve(image_buffer[10].reshape(28, 28), \n",
        "                   top)\n",
        "plt.grid(False)\n",
        "plt.imshow(convtop);"
      ],
      "execution_count": 61,
      "outputs": [
        {
          "output_type": "display_data",
          "data": {
            "image/png": "[encoded data removed]",
            "text/plain": [
              "<Figure size 432x288 with 1 Axes>"
            ]
          },
          "metadata": {
            "tags": [],
            "needs_background": "light"
          }
        }
      ]
    },
    {
      "cell_type": "code",
      "metadata": {
        "id": "DulSsr4XNK9X",
        "outputId": "1816400f-29e2-4983-90b6-2cfe6a586252",
        "colab": {
          "base_uri": "https://localhost:8080/"
        }
      },
      "source": [
        "np.rot90(top, 1)"
      ],
      "execution_count": 62,
      "outputs": [
        {
          "output_type": "execute_result",
          "data": {
            "text/plain": [
              "array([[ 1,  0, -1],\n",
              "       [ 1,  0, -1],\n",
              "       [ 1,  0, -1]])"
            ]
          },
          "metadata": {
            "tags": []
          },
          "execution_count": 62
        }
      ]
    },
    {
      "cell_type": "code",
      "metadata": {
        "id": "WeKjYIlONK9X",
        "outputId": "f4818954-1092-4818-da16-ca14ce2e5ff4",
        "colab": {
          "base_uri": "https://localhost:8080/",
          "height": 265
        }
      },
      "source": [
        "convtop = convolve(image_buffer[10].reshape(28, 28), \n",
        "                   np.rot90(top, 1))\n",
        "plt.grid(False)\n",
        "plt.imshow(convtop);"
      ],
      "execution_count": 63,
      "outputs": [
        {
          "output_type": "display_data",
          "data": {
            "image/png": "[encoded data removed]",
            "text/plain": [
              "<Figure size 432x288 with 1 Axes>"
            ]
          },
          "metadata": {
            "tags": [],
            "needs_background": "light"
          }
        }
      ]
    },
    {
      "cell_type": "markdown",
      "metadata": {
        "id": "0uVSRtO0NK9Y"
      },
      "source": [
        "## CNN Model\n",
        "\n",
        "- Strides\n",
        "- Padding\n",
        "- MaxPooling"
      ]
    },
    {
      "cell_type": "code",
      "metadata": {
        "collapsed": true,
        "id": "Op7ykgvFNK9Y"
      },
      "source": [
        "from keras.layers import Conv2D, MaxPooling2D, Flatten, Dense, Activation, Dropout"
      ],
      "execution_count": 64,
      "outputs": []
    },
    {
      "cell_type": "code",
      "metadata": {
        "id": "lerCr3qiNK9Y",
        "outputId": "2b5d5bd0-b996-4bf1-da5a-697c58792942",
        "colab": {
          "base_uri": "https://localhost:8080/"
        }
      },
      "source": [
        "X_train_shape = X_train.shape\n",
        "print(X_train_shape)"
      ],
      "execution_count": 65,
      "outputs": [
        {
          "output_type": "stream",
          "text": [
            "(33600, 28, 28)\n"
          ],
          "name": "stdout"
        }
      ]
    },
    {
      "cell_type": "code",
      "metadata": {
        "id": "nShD5T_5NK9Z",
        "outputId": "389bff11-948f-4ba5-cbc5-4e2d495b0317",
        "colab": {
          "base_uri": "https://localhost:8080/"
        }
      },
      "source": [
        "X_test_shape = X_test.shape\n",
        "print(X_test_shape)"
      ],
      "execution_count": 66,
      "outputs": [
        {
          "output_type": "stream",
          "text": [
            "(8400, 28, 28)\n"
          ],
          "name": "stdout"
        }
      ]
    },
    {
      "cell_type": "code",
      "metadata": {
        "collapsed": true,
        "id": "rB7FU3cKNK9Z"
      },
      "source": [
        "X_train_reshaped = X_train.reshape(X_train_shape[0],\n",
        "                                   X_train_shape[1],\n",
        "                                   X_train_shape[2], 1)\n",
        "\n",
        "X_test_reshaped = X_test.reshape(X_test_shape[0],\n",
        "                                 X_test_shape[1],\n",
        "                                 X_test_shape[2], 1)"
      ],
      "execution_count": 67,
      "outputs": []
    },
    {
      "cell_type": "code",
      "metadata": {
        "collapsed": true,
        "id": "XBbV_1MjNK9Z"
      },
      "source": [
        "new_input_shape = (X_train_shape[1],X_train_shape[2], 1)"
      ],
      "execution_count": 68,
      "outputs": []
    },
    {
      "cell_type": "code",
      "metadata": {
        "id": "FXLJbaW3NK9Z",
        "outputId": "44931090-4a45-437a-8b32-4957e8a293e6",
        "colab": {
          "base_uri": "https://localhost:8080/"
        }
      },
      "source": [
        "new_input_shape"
      ],
      "execution_count": 69,
      "outputs": [
        {
          "output_type": "execute_result",
          "data": {
            "text/plain": [
              "(28, 28, 1)"
            ]
          },
          "metadata": {
            "tags": []
          },
          "execution_count": 69
        }
      ]
    },
    {
      "cell_type": "markdown",
      "metadata": {
        "id": "DUjM1PUgNK9Z"
      },
      "source": [
        "## Model 2: \n",
        "\n",
        "input -> Conv2D -> Output -> Softmax"
      ]
    },
    {
      "cell_type": "code",
      "metadata": {
        "collapsed": true,
        "id": "YbJI1qC-NK9a"
      },
      "source": [
        "K.clear_session()  # clear default graph\n",
        "\n",
        "model = Sequential()\n",
        "model.add(Conv2D(filters=8, kernel_size=(3,3), input_shape=new_input_shape))\n",
        "model.add(Activation('relu'))\n",
        "                            \n",
        "model.add(MaxPooling2D(pool_size=(2, 2)))\n",
        "\n",
        "model.add(Flatten())\n",
        "    \n",
        "model.add(Dense(10))\n",
        "# This special \"softmax\" activation among other things,\n",
        "# ensures the output is a valid probaility distribution, that is\n",
        "# that its values are all non-negative and sum to 1.\n",
        "model.add(Activation('softmax'))"
      ],
      "execution_count": 70,
      "outputs": []
    },
    {
      "cell_type": "code",
      "metadata": {
        "id": "a4ygV5p4NK9a",
        "outputId": "694d8cd5-83ca-4083-a987-5901b21d58da",
        "colab": {
          "base_uri": "https://localhost:8080/"
        }
      },
      "source": [
        "model.summary()"
      ],
      "execution_count": 71,
      "outputs": [
        {
          "output_type": "stream",
          "text": [
            "Model: \"sequential\"\n",
            "_________________________________________________________________\n",
            "Layer (type)                 Output Shape              Param #   \n",
            "=================================================================\n",
            "conv2d (Conv2D)              (None, 26, 26, 8)         80        \n",
            "_________________________________________________________________\n",
            "activation (Activation)      (None, 26, 26, 8)         0         \n",
            "_________________________________________________________________\n",
            "max_pooling2d (MaxPooling2D) (None, 13, 13, 8)         0         \n",
            "_________________________________________________________________\n",
            "flatten (Flatten)            (None, 1352)              0         \n",
            "_________________________________________________________________\n",
            "dense (Dense)                (None, 10)                13530     \n",
            "_________________________________________________________________\n",
            "activation_1 (Activation)    (None, 10)                0         \n",
            "=================================================================\n",
            "Total params: 13,610\n",
            "Trainable params: 13,610\n",
            "Non-trainable params: 0\n",
            "_________________________________________________________________\n"
          ],
          "name": "stdout"
        }
      ]
    },
    {
      "cell_type": "code",
      "metadata": {
        "collapsed": true,
        "id": "h0aXGERwNK9a"
      },
      "source": [
        "model.compile(optimizer='adam',\n",
        "              loss = 'categorical_crossentropy',\n",
        "              metrics = ['accuracy'])"
      ],
      "execution_count": 72,
      "outputs": []
    },
    {
      "cell_type": "code",
      "metadata": {
        "id": "uSL25mubNK9a",
        "outputId": "ff263b2e-3328-4d6c-ebc6-5d4fff60d7ce",
        "colab": {
          "base_uri": "https://localhost:8080/"
        }
      },
      "source": [
        "%%time\n",
        "\n",
        "history = model.fit(\n",
        "    X_train_reshaped, \n",
        "    y_train,  # prepared data\n",
        "    batch_size=BATCH_SIZE,\n",
        "    epochs=EPOCHS,\n",
        "    validation_data=(X_test_reshaped, y_test),\n",
        "    verbose=1\n",
        ")"
      ],
      "execution_count": 73,
      "outputs": [
        {
          "output_type": "stream",
          "text": [
            "Epoch 1/10\n",
            "263/263 [==============================] - 17s 6ms/step - loss: 17.0203 - accuracy: 0.6788 - val_loss: 1.4495 - val_accuracy: 0.9126\n",
            "Epoch 2/10\n",
            "263/263 [==============================] - 1s 4ms/step - loss: 1.1095 - accuracy: 0.9257 - val_loss: 0.7737 - val_accuracy: 0.9396\n",
            "Epoch 3/10\n",
            "263/263 [==============================] - 1s 5ms/step - loss: 0.5240 - accuracy: 0.9511 - val_loss: 0.5488 - val_accuracy: 0.9495\n",
            "Epoch 4/10\n",
            "263/263 [==============================] - 1s 4ms/step - loss: 0.3831 - accuracy: 0.9589 - val_loss: 0.4551 - val_accuracy: 0.9533\n",
            "Epoch 5/10\n",
            "263/263 [==============================] - 1s 5ms/step - loss: 0.2499 - accuracy: 0.9665 - val_loss: 0.4295 - val_accuracy: 0.9508\n",
            "Epoch 6/10\n",
            "263/263 [==============================] - 1s 4ms/step - loss: 0.1731 - accuracy: 0.9715 - val_loss: 0.3949 - val_accuracy: 0.9530\n",
            "Epoch 7/10\n",
            "263/263 [==============================] - 1s 5ms/step - loss: 0.1356 - accuracy: 0.9769 - val_loss: 0.3247 - val_accuracy: 0.9595\n",
            "Epoch 8/10\n",
            "263/263 [==============================] - 1s 5ms/step - loss: 0.1138 - accuracy: 0.9763 - val_loss: 0.3075 - val_accuracy: 0.9610\n",
            "Epoch 9/10\n",
            "263/263 [==============================] - 1s 4ms/step - loss: 0.0825 - accuracy: 0.9829 - val_loss: 0.2855 - val_accuracy: 0.9620\n",
            "Epoch 10/10\n",
            "263/263 [==============================] - 1s 4ms/step - loss: 0.0631 - accuracy: 0.9844 - val_loss: 0.2870 - val_accuracy: 0.9607\n",
            "CPU times: user 15.7 s, sys: 2.77 s, total: 18.5 s\n",
            "Wall time: 27.7 s\n"
          ],
          "name": "stdout"
        }
      ]
    },
    {
      "cell_type": "markdown",
      "metadata": {
        "id": "1spEm8idNK9b"
      },
      "source": [
        "### Plotting Loss and Accuracy"
      ]
    },
    {
      "cell_type": "code",
      "metadata": {
        "id": "mQ2GG4bHNK9b",
        "outputId": "acc85236-1f81-4d71-f636-45d08cef78c0",
        "colab": {
          "base_uri": "https://localhost:8080/",
          "height": 295
        }
      },
      "source": [
        "plot_accuracy(history.history)"
      ],
      "execution_count": 74,
      "outputs": [
        {
          "output_type": "display_data",
          "data": {
            "image/png": "[encoded data removed]",
            "text/plain": [
              "<Figure size 432x288 with 1 Axes>"
            ]
          },
          "metadata": {
            "tags": [],
            "needs_background": "light"
          }
        }
      ]
    },
    {
      "cell_type": "code",
      "metadata": {
        "id": "FmJzZN06NK9b",
        "outputId": "79a127be-cc3f-4dcf-8ab7-ea533f3194fd",
        "colab": {
          "base_uri": "https://localhost:8080/",
          "height": 295
        }
      },
      "source": [
        "plot_loss(history.history)"
      ],
      "execution_count": 75,
      "outputs": [
        {
          "output_type": "display_data",
          "data": {
            "image/png": "[encoded data removed]",
            "text/plain": [
              "<Figure size 432x288 with 1 Axes>"
            ]
          },
          "metadata": {
            "tags": [],
            "needs_background": "light"
          }
        }
      ]
    },
    {
      "cell_type": "markdown",
      "metadata": {
        "id": "tUvHaGYNNK9c"
      },
      "source": [
        "### Model 2:\n",
        "\n",
        "input -> Conv2D -> Dense(32) (Fully Conntected Layer) -> Dense(10) -> Softmax"
      ]
    },
    {
      "cell_type": "code",
      "metadata": {
        "collapsed": true,
        "id": "2jun7nhKNK9c"
      },
      "source": [
        "K.clear_session()  # clear default graph\n",
        "\n",
        "model2 = Sequential()\n",
        "model2.add(Conv2D(filters=8, kernel_size=(3,3), input_shape=new_input_shape))\n",
        "model2.add(Activation('relu'))\n",
        "                            \n",
        "model2.add(MaxPooling2D(pool_size=(2, 2)))\n",
        "\n",
        "model2.add(Flatten())\n",
        "    \n",
        "model2.add(Dense(32))    \n",
        "model2.add(Activation('relu'))\n",
        "\n",
        "model2.add(Dense(10))\n",
        "# This special \"softmax\" activation among other things,\n",
        "# ensures the output is a valid probaility distribution, that is\n",
        "# that its values are all non-negative and sum to 1.\n",
        "model2.add(Activation('softmax'))"
      ],
      "execution_count": 76,
      "outputs": []
    },
    {
      "cell_type": "code",
      "metadata": {
        "id": "Kg5yqhiYNK9c",
        "outputId": "537f98e8-630c-45ba-9588-e6951b220b5c",
        "colab": {
          "base_uri": "https://localhost:8080/"
        }
      },
      "source": [
        "model2.summary()"
      ],
      "execution_count": 77,
      "outputs": [
        {
          "output_type": "stream",
          "text": [
            "Model: \"sequential\"\n",
            "_________________________________________________________________\n",
            "Layer (type)                 Output Shape              Param #   \n",
            "=================================================================\n",
            "conv2d (Conv2D)              (None, 26, 26, 8)         80        \n",
            "_________________________________________________________________\n",
            "activation (Activation)      (None, 26, 26, 8)         0         \n",
            "_________________________________________________________________\n",
            "max_pooling2d (MaxPooling2D) (None, 13, 13, 8)         0         \n",
            "_________________________________________________________________\n",
            "flatten (Flatten)            (None, 1352)              0         \n",
            "_________________________________________________________________\n",
            "dense (Dense)                (None, 32)                43296     \n",
            "_________________________________________________________________\n",
            "activation_1 (Activation)    (None, 32)                0         \n",
            "_________________________________________________________________\n",
            "dense_1 (Dense)              (None, 10)                330       \n",
            "_________________________________________________________________\n",
            "activation_2 (Activation)    (None, 10)                0         \n",
            "=================================================================\n",
            "Total params: 43,706\n",
            "Trainable params: 43,706\n",
            "Non-trainable params: 0\n",
            "_________________________________________________________________\n"
          ],
          "name": "stdout"
        }
      ]
    },
    {
      "cell_type": "code",
      "metadata": {
        "collapsed": true,
        "id": "KW0CKlhYNK9c"
      },
      "source": [
        "model2.compile(optimizer='adam',\n",
        "              loss = 'categorical_crossentropy',\n",
        "              metrics = ['accuracy'])"
      ],
      "execution_count": 78,
      "outputs": []
    },
    {
      "cell_type": "code",
      "metadata": {
        "collapsed": true,
        "id": "8OoL5tv0NK9d"
      },
      "source": [
        "BATCH_SIZE = 64\n",
        "EPOCHS = 10"
      ],
      "execution_count": 79,
      "outputs": []
    },
    {
      "cell_type": "code",
      "metadata": {
        "id": "xOZXTosSNK9d",
        "outputId": "d105b04a-0b41-4ee8-f22c-b0682f3661c6",
        "colab": {
          "base_uri": "https://localhost:8080/"
        }
      },
      "source": [
        "%%time\n",
        "\n",
        "history2 = model2.fit(\n",
        "    X_train_reshaped, \n",
        "    y_train,  # prepared data\n",
        "    batch_size=BATCH_SIZE,\n",
        "    epochs=EPOCHS,\n",
        "    validation_data=(X_test_reshaped, y_test),\n",
        "    verbose=1\n",
        ")"
      ],
      "execution_count": 80,
      "outputs": [
        {
          "output_type": "stream",
          "text": [
            "Epoch 1/10\n",
            "525/525 [==============================] - 4s 5ms/step - loss: 4.1382 - accuracy: 0.5446 - val_loss: 0.6585 - val_accuracy: 0.8438\n",
            "Epoch 2/10\n",
            "525/525 [==============================] - 2s 4ms/step - loss: 0.5144 - accuracy: 0.8812 - val_loss: 0.3166 - val_accuracy: 0.9276\n",
            "Epoch 3/10\n",
            "525/525 [==============================] - 2s 4ms/step - loss: 0.2368 - accuracy: 0.9439 - val_loss: 0.2128 - val_accuracy: 0.9508\n",
            "Epoch 4/10\n",
            "525/525 [==============================] - 2s 4ms/step - loss: 0.1385 - accuracy: 0.9644 - val_loss: 0.1658 - val_accuracy: 0.9601\n",
            "Epoch 5/10\n",
            "525/525 [==============================] - 2s 4ms/step - loss: 0.1043 - accuracy: 0.9710 - val_loss: 0.1504 - val_accuracy: 0.9637\n",
            "Epoch 6/10\n",
            "525/525 [==============================] - 2s 4ms/step - loss: 0.0759 - accuracy: 0.9782 - val_loss: 0.1374 - val_accuracy: 0.9680\n",
            "Epoch 7/10\n",
            "525/525 [==============================] - 2s 4ms/step - loss: 0.0623 - accuracy: 0.9811 - val_loss: 0.1405 - val_accuracy: 0.9683\n",
            "Epoch 8/10\n",
            "525/525 [==============================] - 2s 4ms/step - loss: 0.0493 - accuracy: 0.9845 - val_loss: 0.1408 - val_accuracy: 0.9685\n",
            "Epoch 9/10\n",
            "525/525 [==============================] - 2s 4ms/step - loss: 0.0432 - accuracy: 0.9866 - val_loss: 0.1423 - val_accuracy: 0.9694\n",
            "Epoch 10/10\n",
            "525/525 [==============================] - 2s 4ms/step - loss: 0.0417 - accuracy: 0.9871 - val_loss: 0.1402 - val_accuracy: 0.9706\n",
            "CPU times: user 23.5 s, sys: 3.63 s, total: 27.1 s\n",
            "Wall time: 22.5 s\n"
          ],
          "name": "stdout"
        }
      ]
    },
    {
      "cell_type": "code",
      "metadata": {
        "id": "4t1jkfGhNK9d",
        "outputId": "bfe10cee-65f4-4ef7-cf03-ad70bd4bc9e5",
        "colab": {
          "base_uri": "https://localhost:8080/",
          "height": 573
        }
      },
      "source": [
        "plot_accuracy(history2.history)\n",
        "\n",
        "plot_loss(history2.history)"
      ],
      "execution_count": 81,
      "outputs": [
        {
          "output_type": "display_data",
          "data": {
            "image/png": "[encoded data removed]",
            "text/plain": [
              "<Figure size 432x288 with 1 Axes>"
            ]
          },
          "metadata": {
            "tags": [],
            "needs_background": "light"
          }
        },
        {
          "output_type": "display_data",
          "data": {
            "image/png": "[encoded data removed]",
            "text/plain": [
              "<Figure size 432x288 with 1 Axes>"
            ]
          },
          "metadata": {
            "tags": [],
            "needs_background": "light"
          }
        }
      ]
    },
    {
      "cell_type": "markdown",
      "metadata": {
        "id": "DAUS7mz4NK9d"
      },
      "source": [
        "## Prediction on Test Images"
      ]
    },
    {
      "cell_type": "code",
      "metadata": {
        "collapsed": true,
        "id": "4x_TeJNJNK9d"
      },
      "source": [
        "predictions_2 = model2.predict_classes(X_test_reshaped)\n",
        "\n",
        "predictions_2 = list(predictions_2)"
      ],
      "execution_count": 82,
      "outputs": []
    },
    {
      "cell_type": "code",
      "metadata": {
        "id": "ABQwNh_JNK9e",
        "outputId": "9b9a6f6d-6d13-4b5f-9aa8-2465ac297de7",
        "colab": {
          "base_uri": "https://localhost:8080/",
          "height": 515
        }
      },
      "source": [
        "plot_confustion_matrix(predictions_2, \n",
        "                       y_actual_classes)"
      ],
      "execution_count": 83,
      "outputs": [
        {
          "output_type": "display_data",
          "data": {
            "image/png": "[encoded data removed]",
            "text/plain": [
              "<Figure size 720x576 with 2 Axes>"
            ]
          },
          "metadata": {
            "tags": [],
            "needs_background": "light"
          }
        }
      ]
    },
    {
      "cell_type": "code",
      "metadata": {
        "collapsed": true,
        "id": "eGAB0jSnNK9e"
      },
      "source": [
        "from sklearn import metrics"
      ],
      "execution_count": 84,
      "outputs": []
    },
    {
      "cell_type": "code",
      "metadata": {
        "id": "RyBdT4Z-NK9e",
        "outputId": "83d16b6a-7f3a-406c-cf6f-cf46913bda9a",
        "colab": {
          "base_uri": "https://localhost:8080/"
        }
      },
      "source": [
        "metrics.accuracy_score(predictions_2, \n",
        "                       y_actual_classes)"
      ],
      "execution_count": 86,
      "outputs": [
        {
          "output_type": "execute_result",
          "data": {
            "text/plain": [
              "0.9705952380952381"
            ]
          },
          "metadata": {
            "tags": []
          },
          "execution_count": 86
        }
      ]
    },
    {
      "cell_type": "markdown",
      "metadata": {
        "id": "Qk2YQ14jNK9i"
      },
      "source": [
        "### Saving Model"
      ]
    },
    {
      "cell_type": "code",
      "metadata": {
        "collapsed": true,
        "id": "WKyNxlw5NK9i"
      },
      "source": [
        "model2.save('digits_model_2.h5')"
      ],
      "execution_count": 94,
      "outputs": []
    },
    {
      "cell_type": "code",
      "metadata": {
        "id": "URjU2WB0NK9i",
        "outputId": "612bb833-cb1a-4055-d9de-cb10384b79d5",
        "colab": {
          "base_uri": "https://localhost:8080/"
        }
      },
      "source": [
        "!ls -al"
      ],
      "execution_count": 95,
      "outputs": [
        {
          "output_type": "stream",
          "text": [
            "total 564\n",
            "drwxr-xr-x 1 root root   4096 Jun 30 09:33 .\n",
            "drwxr-xr-x 1 root root   4096 Jun 30 09:29 ..\n",
            "drwxr-xr-x 4 root root   4096 Jun 15 13:37 .config\n",
            "-rw-r--r-- 1 root root 560608 Jun 30 09:33 digits_model_2.h5\n",
            "drwxr-xr-x 1 root root   4096 Jun 15 13:37 sample_data\n"
          ],
          "name": "stdout"
        }
      ]
    },
    {
      "cell_type": "markdown",
      "metadata": {
        "id": "5e4jnhxWNK9j"
      },
      "source": [
        "## Load model and make prediction"
      ]
    },
    {
      "cell_type": "code",
      "metadata": {
        "collapsed": true,
        "id": "u_as1QL3NK9j"
      },
      "source": [
        "from keras.models import load_model\n",
        "\n",
        "new_model = load_model('digits_model_2.h5')"
      ],
      "execution_count": 96,
      "outputs": []
    },
    {
      "cell_type": "code",
      "metadata": {
        "collapsed": true,
        "id": "ek32Yc2qNK9j"
      },
      "source": [
        "predictions_new = new_model.predict_classes(X_test_reshaped)"
      ],
      "execution_count": 97,
      "outputs": []
    },
    {
      "cell_type": "code",
      "metadata": {
        "id": "0lhtRCFJNK9j",
        "outputId": "10e1ffcb-543c-4b22-ee68-26a4662633d0",
        "colab": {
          "base_uri": "https://localhost:8080/"
        }
      },
      "source": [
        "predictions_new[0:10]"
      ],
      "execution_count": 98,
      "outputs": [
        {
          "output_type": "execute_result",
          "data": {
            "text/plain": [
              "array([8, 1, 9, 9, 8, 6, 2, 2, 7, 1])"
            ]
          },
          "metadata": {
            "tags": []
          },
          "execution_count": 98
        }
      ]
    },
    {
      "cell_type": "code",
      "metadata": {
        "id": "ipO_sOBrRLST"
      },
      "source": [
        ""
      ],
      "execution_count": null,
      "outputs": []
    }
  ]
}