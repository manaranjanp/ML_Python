{
 "cells": [
  {
   "cell_type": "markdown",
   "metadata": {},
   "source": [
    "# Used Car Price Prediction"
   ]
  },
  {
   "cell_type": "markdown",
   "metadata": {},
   "source": [
    "### Load Dataset"
   ]
  },
  {
   "cell_type": "code",
   "execution_count": 1,
   "metadata": {},
   "outputs": [],
   "source": [
    "import pandas as pd\n",
    "import numpy as np\n",
    "import matplotlib.pyplot as plt\n",
    "import seaborn as sn"
   ]
  },
  {
   "cell_type": "code",
   "execution_count": 2,
   "metadata": {},
   "outputs": [],
   "source": [
    "cars_df = pd.read_csv( \"new_used_car.csv\" )"
   ]
  },
  {
   "cell_type": "code",
   "execution_count": 3,
   "metadata": {},
   "outputs": [
    {
     "data": {
      "text/html": [
       "<div>\n",
       "<style scoped>\n",
       "    .dataframe tbody tr th:only-of-type {\n",
       "        vertical-align: middle;\n",
       "    }\n",
       "\n",
       "    .dataframe tbody tr th {\n",
       "        vertical-align: top;\n",
       "    }\n",
       "\n",
       "    .dataframe thead th {\n",
       "        text-align: right;\n",
       "    }\n",
       "</style>\n",
       "<table border=\"1\" class=\"dataframe\">\n",
       "  <thead>\n",
       "    <tr style=\"text-align: right;\">\n",
       "      <th></th>\n",
       "      <th>Name</th>\n",
       "      <th>Location</th>\n",
       "      <th>Year</th>\n",
       "      <th>Kilometers_Driven</th>\n",
       "      <th>Fuel_Type</th>\n",
       "      <th>Transmission</th>\n",
       "      <th>Owner_Type</th>\n",
       "      <th>Mileage</th>\n",
       "      <th>Engine</th>\n",
       "      <th>Power</th>\n",
       "      <th>Seats</th>\n",
       "      <th>Price</th>\n",
       "      <th>age</th>\n",
       "      <th>make</th>\n",
       "      <th>model</th>\n",
       "      <th>mileage_new</th>\n",
       "      <th>engine_new</th>\n",
       "      <th>power_new</th>\n",
       "      <th>KM_Driven</th>\n",
       "    </tr>\n",
       "  </thead>\n",
       "  <tbody>\n",
       "    <tr>\n",
       "      <th>0</th>\n",
       "      <td>Honda Jazz V</td>\n",
       "      <td>Chennai</td>\n",
       "      <td>2011</td>\n",
       "      <td>46000</td>\n",
       "      <td>Petrol</td>\n",
       "      <td>Manual</td>\n",
       "      <td>First</td>\n",
       "      <td>18.2 kmpl</td>\n",
       "      <td>1199 CC</td>\n",
       "      <td>88.7 bhp</td>\n",
       "      <td>5.0</td>\n",
       "      <td>4.50</td>\n",
       "      <td>9</td>\n",
       "      <td>honda</td>\n",
       "      <td>jazz</td>\n",
       "      <td>18.20</td>\n",
       "      <td>1199.0</td>\n",
       "      <td>88.70</td>\n",
       "      <td>46</td>\n",
       "    </tr>\n",
       "    <tr>\n",
       "      <th>1</th>\n",
       "      <td>Maruti Ertiga VDI</td>\n",
       "      <td>Chennai</td>\n",
       "      <td>2012</td>\n",
       "      <td>87000</td>\n",
       "      <td>Diesel</td>\n",
       "      <td>Manual</td>\n",
       "      <td>First</td>\n",
       "      <td>20.77 kmpl</td>\n",
       "      <td>1248 CC</td>\n",
       "      <td>88.76 bhp</td>\n",
       "      <td>7.0</td>\n",
       "      <td>6.00</td>\n",
       "      <td>8</td>\n",
       "      <td>maruti</td>\n",
       "      <td>ertiga</td>\n",
       "      <td>20.77</td>\n",
       "      <td>1248.0</td>\n",
       "      <td>88.76</td>\n",
       "      <td>87</td>\n",
       "    </tr>\n",
       "    <tr>\n",
       "      <th>2</th>\n",
       "      <td>Nissan Micra Diesel XV</td>\n",
       "      <td>Jaipur</td>\n",
       "      <td>2013</td>\n",
       "      <td>86999</td>\n",
       "      <td>Diesel</td>\n",
       "      <td>Manual</td>\n",
       "      <td>First</td>\n",
       "      <td>23.08 kmpl</td>\n",
       "      <td>1461 CC</td>\n",
       "      <td>63.1 bhp</td>\n",
       "      <td>5.0</td>\n",
       "      <td>3.50</td>\n",
       "      <td>7</td>\n",
       "      <td>nissan</td>\n",
       "      <td>micra</td>\n",
       "      <td>23.08</td>\n",
       "      <td>1461.0</td>\n",
       "      <td>63.10</td>\n",
       "      <td>86</td>\n",
       "    </tr>\n",
       "    <tr>\n",
       "      <th>3</th>\n",
       "      <td>Tata Indica Vista Quadrajet LS</td>\n",
       "      <td>Chennai</td>\n",
       "      <td>2012</td>\n",
       "      <td>65932</td>\n",
       "      <td>Diesel</td>\n",
       "      <td>Manual</td>\n",
       "      <td>Second</td>\n",
       "      <td>22.3 kmpl</td>\n",
       "      <td>1248 CC</td>\n",
       "      <td>74 bhp</td>\n",
       "      <td>5.0</td>\n",
       "      <td>1.95</td>\n",
       "      <td>8</td>\n",
       "      <td>tata</td>\n",
       "      <td>indica</td>\n",
       "      <td>22.30</td>\n",
       "      <td>1248.0</td>\n",
       "      <td>74.00</td>\n",
       "      <td>65</td>\n",
       "    </tr>\n",
       "    <tr>\n",
       "      <th>4</th>\n",
       "      <td>Maruti Swift VDI BSIV</td>\n",
       "      <td>Jaipur</td>\n",
       "      <td>2015</td>\n",
       "      <td>64424</td>\n",
       "      <td>Diesel</td>\n",
       "      <td>Manual</td>\n",
       "      <td>First</td>\n",
       "      <td>25.2 kmpl</td>\n",
       "      <td>1248 CC</td>\n",
       "      <td>74 bhp</td>\n",
       "      <td>5.0</td>\n",
       "      <td>5.60</td>\n",
       "      <td>5</td>\n",
       "      <td>maruti</td>\n",
       "      <td>swift</td>\n",
       "      <td>25.20</td>\n",
       "      <td>1248.0</td>\n",
       "      <td>74.00</td>\n",
       "      <td>64</td>\n",
       "    </tr>\n",
       "  </tbody>\n",
       "</table>\n",
       "</div>"
      ],
      "text/plain": [
       "                             Name Location  Year  Kilometers_Driven Fuel_Type  \\\n",
       "0                    Honda Jazz V  Chennai  2011              46000    Petrol   \n",
       "1               Maruti Ertiga VDI  Chennai  2012              87000    Diesel   \n",
       "2          Nissan Micra Diesel XV   Jaipur  2013              86999    Diesel   \n",
       "3  Tata Indica Vista Quadrajet LS  Chennai  2012              65932    Diesel   \n",
       "4           Maruti Swift VDI BSIV   Jaipur  2015              64424    Diesel   \n",
       "\n",
       "  Transmission Owner_Type     Mileage   Engine      Power  Seats  Price  age  \\\n",
       "0       Manual      First   18.2 kmpl  1199 CC   88.7 bhp    5.0   4.50    9   \n",
       "1       Manual      First  20.77 kmpl  1248 CC  88.76 bhp    7.0   6.00    8   \n",
       "2       Manual      First  23.08 kmpl  1461 CC   63.1 bhp    5.0   3.50    7   \n",
       "3       Manual     Second   22.3 kmpl  1248 CC     74 bhp    5.0   1.95    8   \n",
       "4       Manual      First   25.2 kmpl  1248 CC     74 bhp    5.0   5.60    5   \n",
       "\n",
       "     make   model  mileage_new  engine_new  power_new  KM_Driven  \n",
       "0   honda    jazz        18.20      1199.0      88.70         46  \n",
       "1  maruti  ertiga        20.77      1248.0      88.76         87  \n",
       "2  nissan   micra        23.08      1461.0      63.10         86  \n",
       "3    tata  indica        22.30      1248.0      74.00         65  \n",
       "4  maruti   swift        25.20      1248.0      74.00         64  "
      ]
     },
     "execution_count": 3,
     "metadata": {},
     "output_type": "execute_result"
    }
   ],
   "source": [
    "cars_df.head(5)"
   ]
  },
  {
   "cell_type": "code",
   "execution_count": 4,
   "metadata": {},
   "outputs": [
    {
     "name": "stdout",
     "output_type": "stream",
     "text": [
      "<class 'pandas.core.frame.DataFrame'>\n",
      "RangeIndex: 3092 entries, 0 to 3091\n",
      "Data columns (total 19 columns):\n",
      " #   Column             Non-Null Count  Dtype  \n",
      "---  ------             --------------  -----  \n",
      " 0   Name               3092 non-null   object \n",
      " 1   Location           3092 non-null   object \n",
      " 2   Year               3092 non-null   int64  \n",
      " 3   Kilometers_Driven  3092 non-null   int64  \n",
      " 4   Fuel_Type          3092 non-null   object \n",
      " 5   Transmission       3092 non-null   object \n",
      " 6   Owner_Type         3092 non-null   object \n",
      " 7   Mileage            3092 non-null   object \n",
      " 8   Engine             3092 non-null   object \n",
      " 9   Power              3092 non-null   object \n",
      " 10  Seats              3091 non-null   float64\n",
      " 11  Price              3092 non-null   float64\n",
      " 12  age                3092 non-null   int64  \n",
      " 13  make               3092 non-null   object \n",
      " 14  model              3092 non-null   object \n",
      " 15  mileage_new        3092 non-null   float64\n",
      " 16  engine_new         3092 non-null   float64\n",
      " 17  power_new          3092 non-null   float64\n",
      " 18  KM_Driven          3092 non-null   int64  \n",
      "dtypes: float64(5), int64(4), object(10)\n",
      "memory usage: 459.1+ KB\n"
     ]
    }
   ],
   "source": [
    "cars_df.info()"
   ]
  },
  {
   "cell_type": "markdown",
   "metadata": {},
   "source": [
    "### Feature Set Selection"
   ]
  },
  {
   "cell_type": "code",
   "execution_count": 5,
   "metadata": {},
   "outputs": [
    {
     "data": {
      "text/plain": [
       "Index(['Name', 'Location', 'Year', 'Kilometers_Driven', 'Fuel_Type',\n",
       "       'Transmission', 'Owner_Type', 'Mileage', 'Engine', 'Power', 'Seats',\n",
       "       'Price', 'age', 'make', 'model', 'mileage_new', 'engine_new',\n",
       "       'power_new', 'KM_Driven'],\n",
       "      dtype='object')"
      ]
     },
     "execution_count": 5,
     "metadata": {},
     "output_type": "execute_result"
    }
   ],
   "source": [
    "cars_df.columns"
   ]
  },
  {
   "cell_type": "code",
   "execution_count": 6,
   "metadata": {},
   "outputs": [],
   "source": [
    "x_features = ['KM_Driven', 'Fuel_Type', 'age',\n",
    "              'Transmission', 'Owner_Type', 'Seats',\n",
    "              'make', 'mileage_new', 'engine_new', \n",
    "              'power_new', 'Location']\n",
    "## model of the car is not included in the model"
   ]
  },
  {
   "cell_type": "code",
   "execution_count": 7,
   "metadata": {},
   "outputs": [],
   "source": [
    "cat_features = ['Fuel_Type', \n",
    "                'Transmission', 'Owner_Type', \n",
    "                'make', 'Location']"
   ]
  },
  {
   "cell_type": "code",
   "execution_count": 8,
   "metadata": {},
   "outputs": [],
   "source": [
    "num_features = list(set(x_features) - set(cat_features))"
   ]
  },
  {
   "cell_type": "code",
   "execution_count": 9,
   "metadata": {},
   "outputs": [
    {
     "data": {
      "text/plain": [
       "['power_new', 'Seats', 'engine_new', 'mileage_new', 'age', 'KM_Driven']"
      ]
     },
     "execution_count": 9,
     "metadata": {},
     "output_type": "execute_result"
    }
   ],
   "source": [
    "num_features"
   ]
  },
  {
   "cell_type": "code",
   "execution_count": 10,
   "metadata": {},
   "outputs": [
    {
     "name": "stdout",
     "output_type": "stream",
     "text": [
      "<class 'pandas.core.frame.DataFrame'>\n",
      "RangeIndex: 3092 entries, 0 to 3091\n",
      "Data columns (total 11 columns):\n",
      " #   Column        Non-Null Count  Dtype  \n",
      "---  ------        --------------  -----  \n",
      " 0   KM_Driven     3092 non-null   int64  \n",
      " 1   Fuel_Type     3092 non-null   object \n",
      " 2   age           3092 non-null   int64  \n",
      " 3   Transmission  3092 non-null   object \n",
      " 4   Owner_Type    3092 non-null   object \n",
      " 5   Seats         3091 non-null   float64\n",
      " 6   make          3092 non-null   object \n",
      " 7   mileage_new   3092 non-null   float64\n",
      " 8   engine_new    3092 non-null   float64\n",
      " 9   power_new     3092 non-null   float64\n",
      " 10  Location      3092 non-null   object \n",
      "dtypes: float64(4), int64(2), object(5)\n",
      "memory usage: 265.8+ KB\n"
     ]
    }
   ],
   "source": [
    "cars_df[x_features].info()"
   ]
  },
  {
   "cell_type": "markdown",
   "metadata": {},
   "source": [
    "### Dropping Null Values"
   ]
  },
  {
   "cell_type": "code",
   "execution_count": 11,
   "metadata": {},
   "outputs": [],
   "source": [
    "cars_df = cars_df[x_features + ['Price']].dropna()"
   ]
  },
  {
   "cell_type": "code",
   "execution_count": 12,
   "metadata": {},
   "outputs": [
    {
     "data": {
      "text/plain": [
       "(3091, 12)"
      ]
     },
     "execution_count": 12,
     "metadata": {},
     "output_type": "execute_result"
    }
   ],
   "source": [
    "cars_df.shape"
   ]
  },
  {
   "cell_type": "code",
   "execution_count": 13,
   "metadata": {},
   "outputs": [
    {
     "data": {
      "text/html": [
       "<div>\n",
       "<style scoped>\n",
       "    .dataframe tbody tr th:only-of-type {\n",
       "        vertical-align: middle;\n",
       "    }\n",
       "\n",
       "    .dataframe tbody tr th {\n",
       "        vertical-align: top;\n",
       "    }\n",
       "\n",
       "    .dataframe thead th {\n",
       "        text-align: right;\n",
       "    }\n",
       "</style>\n",
       "<table border=\"1\" class=\"dataframe\">\n",
       "  <thead>\n",
       "    <tr style=\"text-align: right;\">\n",
       "      <th></th>\n",
       "      <th>KM_Driven</th>\n",
       "      <th>Fuel_Type</th>\n",
       "      <th>age</th>\n",
       "      <th>Transmission</th>\n",
       "      <th>Owner_Type</th>\n",
       "      <th>Seats</th>\n",
       "      <th>make</th>\n",
       "      <th>mileage_new</th>\n",
       "      <th>engine_new</th>\n",
       "      <th>power_new</th>\n",
       "      <th>Location</th>\n",
       "      <th>Price</th>\n",
       "    </tr>\n",
       "  </thead>\n",
       "  <tbody>\n",
       "    <tr>\n",
       "      <th>199</th>\n",
       "      <td>52</td>\n",
       "      <td>Petrol</td>\n",
       "      <td>7</td>\n",
       "      <td>Manual</td>\n",
       "      <td>First</td>\n",
       "      <td>5.0</td>\n",
       "      <td>honda</td>\n",
       "      <td>13.00</td>\n",
       "      <td>1493.0</td>\n",
       "      <td>100.0</td>\n",
       "      <td>Mumbai</td>\n",
       "      <td>4.35</td>\n",
       "    </tr>\n",
       "    <tr>\n",
       "      <th>1449</th>\n",
       "      <td>98</td>\n",
       "      <td>Diesel</td>\n",
       "      <td>3</td>\n",
       "      <td>Manual</td>\n",
       "      <td>First</td>\n",
       "      <td>5.0</td>\n",
       "      <td>tata</td>\n",
       "      <td>22.95</td>\n",
       "      <td>1248.0</td>\n",
       "      <td>74.0</td>\n",
       "      <td>Hyderabad</td>\n",
       "      <td>6.00</td>\n",
       "    </tr>\n",
       "    <tr>\n",
       "      <th>1529</th>\n",
       "      <td>58</td>\n",
       "      <td>Petrol</td>\n",
       "      <td>12</td>\n",
       "      <td>Automatic</td>\n",
       "      <td>Second</td>\n",
       "      <td>5.0</td>\n",
       "      <td>hyundai</td>\n",
       "      <td>19.20</td>\n",
       "      <td>1197.0</td>\n",
       "      <td>80.0</td>\n",
       "      <td>Bangalore</td>\n",
       "      <td>2.95</td>\n",
       "    </tr>\n",
       "    <tr>\n",
       "      <th>828</th>\n",
       "      <td>53</td>\n",
       "      <td>Petrol</td>\n",
       "      <td>7</td>\n",
       "      <td>Manual</td>\n",
       "      <td>First</td>\n",
       "      <td>5.0</td>\n",
       "      <td>honda</td>\n",
       "      <td>19.40</td>\n",
       "      <td>1198.0</td>\n",
       "      <td>86.8</td>\n",
       "      <td>Jaipur</td>\n",
       "      <td>3.50</td>\n",
       "    </tr>\n",
       "    <tr>\n",
       "      <th>1153</th>\n",
       "      <td>39</td>\n",
       "      <td>Petrol</td>\n",
       "      <td>3</td>\n",
       "      <td>Manual</td>\n",
       "      <td>First</td>\n",
       "      <td>5.0</td>\n",
       "      <td>ford</td>\n",
       "      <td>18.16</td>\n",
       "      <td>1196.0</td>\n",
       "      <td>86.8</td>\n",
       "      <td>Coimbatore</td>\n",
       "      <td>4.95</td>\n",
       "    </tr>\n",
       "  </tbody>\n",
       "</table>\n",
       "</div>"
      ],
      "text/plain": [
       "      KM_Driven Fuel_Type  age Transmission Owner_Type  Seats     make  \\\n",
       "199          52    Petrol    7       Manual      First    5.0    honda   \n",
       "1449         98    Diesel    3       Manual      First    5.0     tata   \n",
       "1529         58    Petrol   12    Automatic     Second    5.0  hyundai   \n",
       "828          53    Petrol    7       Manual      First    5.0    honda   \n",
       "1153         39    Petrol    3       Manual      First    5.0     ford   \n",
       "\n",
       "      mileage_new  engine_new  power_new    Location  Price  \n",
       "199         13.00      1493.0      100.0      Mumbai   4.35  \n",
       "1449        22.95      1248.0       74.0   Hyderabad   6.00  \n",
       "1529        19.20      1197.0       80.0   Bangalore   2.95  \n",
       "828         19.40      1198.0       86.8      Jaipur   3.50  \n",
       "1153        18.16      1196.0       86.8  Coimbatore   4.95  "
      ]
     },
     "execution_count": 13,
     "metadata": {},
     "output_type": "execute_result"
    }
   ],
   "source": [
    "cars_df.sample(5)"
   ]
  },
  {
   "cell_type": "markdown",
   "metadata": {},
   "source": [
    "### Encode Categorical Variables"
   ]
  },
  {
   "cell_type": "code",
   "execution_count": 14,
   "metadata": {},
   "outputs": [],
   "source": [
    "encoded_cars_df = pd.get_dummies(cars_df[x_features], \n",
    "                                 columns=cat_features)"
   ]
  },
  {
   "cell_type": "code",
   "execution_count": 15,
   "metadata": {},
   "outputs": [
    {
     "data": {
      "text/html": [
       "<div>\n",
       "<style scoped>\n",
       "    .dataframe tbody tr th:only-of-type {\n",
       "        vertical-align: middle;\n",
       "    }\n",
       "\n",
       "    .dataframe tbody tr th {\n",
       "        vertical-align: top;\n",
       "    }\n",
       "\n",
       "    .dataframe thead th {\n",
       "        text-align: right;\n",
       "    }\n",
       "</style>\n",
       "<table border=\"1\" class=\"dataframe\">\n",
       "  <thead>\n",
       "    <tr style=\"text-align: right;\">\n",
       "      <th></th>\n",
       "      <th>KM_Driven</th>\n",
       "      <th>age</th>\n",
       "      <th>Seats</th>\n",
       "      <th>mileage_new</th>\n",
       "      <th>engine_new</th>\n",
       "      <th>power_new</th>\n",
       "      <th>Fuel_Type_Diesel</th>\n",
       "      <th>Fuel_Type_Petrol</th>\n",
       "      <th>Transmission_Automatic</th>\n",
       "      <th>Transmission_Manual</th>\n",
       "      <th>...</th>\n",
       "      <th>Location_Bangalore</th>\n",
       "      <th>Location_Chennai</th>\n",
       "      <th>Location_Coimbatore</th>\n",
       "      <th>Location_Delhi</th>\n",
       "      <th>Location_Hyderabad</th>\n",
       "      <th>Location_Jaipur</th>\n",
       "      <th>Location_Kochi</th>\n",
       "      <th>Location_Kolkata</th>\n",
       "      <th>Location_Mumbai</th>\n",
       "      <th>Location_Pune</th>\n",
       "    </tr>\n",
       "  </thead>\n",
       "  <tbody>\n",
       "    <tr>\n",
       "      <th>2280</th>\n",
       "      <td>80</td>\n",
       "      <td>4</td>\n",
       "      <td>5.0</td>\n",
       "      <td>25.0</td>\n",
       "      <td>1396.0</td>\n",
       "      <td>69.00</td>\n",
       "      <td>1</td>\n",
       "      <td>0</td>\n",
       "      <td>0</td>\n",
       "      <td>1</td>\n",
       "      <td>...</td>\n",
       "      <td>0</td>\n",
       "      <td>0</td>\n",
       "      <td>0</td>\n",
       "      <td>0</td>\n",
       "      <td>1</td>\n",
       "      <td>0</td>\n",
       "      <td>0</td>\n",
       "      <td>0</td>\n",
       "      <td>0</td>\n",
       "      <td>0</td>\n",
       "    </tr>\n",
       "    <tr>\n",
       "      <th>1211</th>\n",
       "      <td>51</td>\n",
       "      <td>7</td>\n",
       "      <td>5.0</td>\n",
       "      <td>21.9</td>\n",
       "      <td>1396.0</td>\n",
       "      <td>88.76</td>\n",
       "      <td>1</td>\n",
       "      <td>0</td>\n",
       "      <td>0</td>\n",
       "      <td>1</td>\n",
       "      <td>...</td>\n",
       "      <td>0</td>\n",
       "      <td>0</td>\n",
       "      <td>0</td>\n",
       "      <td>0</td>\n",
       "      <td>0</td>\n",
       "      <td>1</td>\n",
       "      <td>0</td>\n",
       "      <td>0</td>\n",
       "      <td>0</td>\n",
       "      <td>0</td>\n",
       "    </tr>\n",
       "    <tr>\n",
       "      <th>601</th>\n",
       "      <td>54</td>\n",
       "      <td>6</td>\n",
       "      <td>5.0</td>\n",
       "      <td>20.0</td>\n",
       "      <td>1399.0</td>\n",
       "      <td>68.05</td>\n",
       "      <td>1</td>\n",
       "      <td>0</td>\n",
       "      <td>0</td>\n",
       "      <td>1</td>\n",
       "      <td>...</td>\n",
       "      <td>0</td>\n",
       "      <td>0</td>\n",
       "      <td>0</td>\n",
       "      <td>0</td>\n",
       "      <td>0</td>\n",
       "      <td>0</td>\n",
       "      <td>0</td>\n",
       "      <td>0</td>\n",
       "      <td>1</td>\n",
       "      <td>0</td>\n",
       "    </tr>\n",
       "    <tr>\n",
       "      <th>1052</th>\n",
       "      <td>40</td>\n",
       "      <td>6</td>\n",
       "      <td>5.0</td>\n",
       "      <td>26.0</td>\n",
       "      <td>1498.0</td>\n",
       "      <td>98.60</td>\n",
       "      <td>1</td>\n",
       "      <td>0</td>\n",
       "      <td>0</td>\n",
       "      <td>1</td>\n",
       "      <td>...</td>\n",
       "      <td>0</td>\n",
       "      <td>0</td>\n",
       "      <td>0</td>\n",
       "      <td>0</td>\n",
       "      <td>0</td>\n",
       "      <td>0</td>\n",
       "      <td>0</td>\n",
       "      <td>1</td>\n",
       "      <td>0</td>\n",
       "      <td>0</td>\n",
       "    </tr>\n",
       "    <tr>\n",
       "      <th>1107</th>\n",
       "      <td>4</td>\n",
       "      <td>2</td>\n",
       "      <td>5.0</td>\n",
       "      <td>21.4</td>\n",
       "      <td>1197.0</td>\n",
       "      <td>83.10</td>\n",
       "      <td>0</td>\n",
       "      <td>1</td>\n",
       "      <td>1</td>\n",
       "      <td>0</td>\n",
       "      <td>...</td>\n",
       "      <td>0</td>\n",
       "      <td>0</td>\n",
       "      <td>0</td>\n",
       "      <td>0</td>\n",
       "      <td>0</td>\n",
       "      <td>1</td>\n",
       "      <td>0</td>\n",
       "      <td>0</td>\n",
       "      <td>0</td>\n",
       "      <td>0</td>\n",
       "    </tr>\n",
       "  </tbody>\n",
       "</table>\n",
       "<p>5 rows × 41 columns</p>\n",
       "</div>"
      ],
      "text/plain": [
       "      KM_Driven  age  Seats  mileage_new  engine_new  power_new  \\\n",
       "2280         80    4    5.0         25.0      1396.0      69.00   \n",
       "1211         51    7    5.0         21.9      1396.0      88.76   \n",
       "601          54    6    5.0         20.0      1399.0      68.05   \n",
       "1052         40    6    5.0         26.0      1498.0      98.60   \n",
       "1107          4    2    5.0         21.4      1197.0      83.10   \n",
       "\n",
       "      Fuel_Type_Diesel  Fuel_Type_Petrol  Transmission_Automatic  \\\n",
       "2280                 1                 0                       0   \n",
       "1211                 1                 0                       0   \n",
       "601                  1                 0                       0   \n",
       "1052                 1                 0                       0   \n",
       "1107                 0                 1                       1   \n",
       "\n",
       "      Transmission_Manual  ...  Location_Bangalore  Location_Chennai  \\\n",
       "2280                    1  ...                   0                 0   \n",
       "1211                    1  ...                   0                 0   \n",
       "601                     1  ...                   0                 0   \n",
       "1052                    1  ...                   0                 0   \n",
       "1107                    0  ...                   0                 0   \n",
       "\n",
       "      Location_Coimbatore  Location_Delhi  Location_Hyderabad  \\\n",
       "2280                    0               0                   1   \n",
       "1211                    0               0                   0   \n",
       "601                     0               0                   0   \n",
       "1052                    0               0                   0   \n",
       "1107                    0               0                   0   \n",
       "\n",
       "      Location_Jaipur  Location_Kochi  Location_Kolkata  Location_Mumbai  \\\n",
       "2280                0               0                 0                0   \n",
       "1211                1               0                 0                0   \n",
       "601                 0               0                 0                1   \n",
       "1052                0               0                 1                0   \n",
       "1107                1               0                 0                0   \n",
       "\n",
       "      Location_Pune  \n",
       "2280              0  \n",
       "1211              0  \n",
       "601               0  \n",
       "1052              0  \n",
       "1107              0  \n",
       "\n",
       "[5 rows x 41 columns]"
      ]
     },
     "execution_count": 15,
     "metadata": {},
     "output_type": "execute_result"
    }
   ],
   "source": [
    "encoded_cars_df.sample(5)"
   ]
  },
  {
   "cell_type": "code",
   "execution_count": 16,
   "metadata": {},
   "outputs": [
    {
     "data": {
      "text/plain": [
       "Index(['KM_Driven', 'age', 'Seats', 'mileage_new', 'engine_new', 'power_new',\n",
       "       'Fuel_Type_Diesel', 'Fuel_Type_Petrol', 'Transmission_Automatic',\n",
       "       'Transmission_Manual', 'Owner_Type_First', 'Owner_Type_Fourth & Above',\n",
       "       'Owner_Type_Second', 'Owner_Type_Third', 'make_ambassador',\n",
       "       'make_chevrolet', 'make_datsun', 'make_fiat', 'make_ford', 'make_honda',\n",
       "       'make_hyundai', 'make_mahindra', 'make_maruti', 'make_mitsubishi',\n",
       "       'make_nissan', 'make_renault', 'make_skoda', 'make_tata', 'make_toyota',\n",
       "       'make_volkswagen', 'Location_Ahmedabad', 'Location_Bangalore',\n",
       "       'Location_Chennai', 'Location_Coimbatore', 'Location_Delhi',\n",
       "       'Location_Hyderabad', 'Location_Jaipur', 'Location_Kochi',\n",
       "       'Location_Kolkata', 'Location_Mumbai', 'Location_Pune'],\n",
       "      dtype='object')"
      ]
     },
     "execution_count": 16,
     "metadata": {},
     "output_type": "execute_result"
    }
   ],
   "source": [
    "encoded_cars_df.columns"
   ]
  },
  {
   "cell_type": "code",
   "execution_count": 17,
   "metadata": {},
   "outputs": [
    {
     "data": {
      "text/plain": [
       "(3091, 41)"
      ]
     },
     "execution_count": 17,
     "metadata": {},
     "output_type": "execute_result"
    }
   ],
   "source": [
    "encoded_cars_df.shape"
   ]
  },
  {
   "cell_type": "markdown",
   "metadata": {},
   "source": [
    "### Setting X and y variables"
   ]
  },
  {
   "cell_type": "code",
   "execution_count": 18,
   "metadata": {},
   "outputs": [],
   "source": [
    "X = encoded_cars_df\n",
    "y = cars_df['Price']"
   ]
  },
  {
   "cell_type": "markdown",
   "metadata": {},
   "source": [
    "### Data Splitting"
   ]
  },
  {
   "cell_type": "code",
   "execution_count": 19,
   "metadata": {},
   "outputs": [],
   "source": [
    "from sklearn.model_selection import train_test_split"
   ]
  },
  {
   "cell_type": "code",
   "execution_count": 20,
   "metadata": {},
   "outputs": [],
   "source": [
    "X_train, X_test, y_train, y_test = train_test_split(X,\n",
    "                                                    y,\n",
    "                                                    train_size = 0.8,\n",
    "                                                    random_state = 80)"
   ]
  },
  {
   "cell_type": "code",
   "execution_count": 21,
   "metadata": {},
   "outputs": [
    {
     "data": {
      "text/plain": [
       "(2472, 41)"
      ]
     },
     "execution_count": 21,
     "metadata": {},
     "output_type": "execute_result"
    }
   ],
   "source": [
    "X_train.shape"
   ]
  },
  {
   "cell_type": "code",
   "execution_count": 22,
   "metadata": {},
   "outputs": [
    {
     "data": {
      "text/html": [
       "<div>\n",
       "<style scoped>\n",
       "    .dataframe tbody tr th:only-of-type {\n",
       "        vertical-align: middle;\n",
       "    }\n",
       "\n",
       "    .dataframe tbody tr th {\n",
       "        vertical-align: top;\n",
       "    }\n",
       "\n",
       "    .dataframe thead th {\n",
       "        text-align: right;\n",
       "    }\n",
       "</style>\n",
       "<table border=\"1\" class=\"dataframe\">\n",
       "  <thead>\n",
       "    <tr style=\"text-align: right;\">\n",
       "      <th></th>\n",
       "      <th>KM_Driven</th>\n",
       "      <th>age</th>\n",
       "      <th>Seats</th>\n",
       "      <th>mileage_new</th>\n",
       "      <th>engine_new</th>\n",
       "      <th>power_new</th>\n",
       "      <th>Fuel_Type_Diesel</th>\n",
       "      <th>Fuel_Type_Petrol</th>\n",
       "      <th>Transmission_Automatic</th>\n",
       "      <th>Transmission_Manual</th>\n",
       "      <th>...</th>\n",
       "      <th>Location_Bangalore</th>\n",
       "      <th>Location_Chennai</th>\n",
       "      <th>Location_Coimbatore</th>\n",
       "      <th>Location_Delhi</th>\n",
       "      <th>Location_Hyderabad</th>\n",
       "      <th>Location_Jaipur</th>\n",
       "      <th>Location_Kochi</th>\n",
       "      <th>Location_Kolkata</th>\n",
       "      <th>Location_Mumbai</th>\n",
       "      <th>Location_Pune</th>\n",
       "    </tr>\n",
       "  </thead>\n",
       "  <tbody>\n",
       "    <tr>\n",
       "      <th>1458</th>\n",
       "      <td>81</td>\n",
       "      <td>6</td>\n",
       "      <td>5.0</td>\n",
       "      <td>20.14</td>\n",
       "      <td>1498.0</td>\n",
       "      <td>88.80</td>\n",
       "      <td>1</td>\n",
       "      <td>0</td>\n",
       "      <td>0</td>\n",
       "      <td>1</td>\n",
       "      <td>...</td>\n",
       "      <td>0</td>\n",
       "      <td>0</td>\n",
       "      <td>0</td>\n",
       "      <td>0</td>\n",
       "      <td>1</td>\n",
       "      <td>0</td>\n",
       "      <td>0</td>\n",
       "      <td>0</td>\n",
       "      <td>0</td>\n",
       "      <td>0</td>\n",
       "    </tr>\n",
       "    <tr>\n",
       "      <th>3079</th>\n",
       "      <td>70</td>\n",
       "      <td>10</td>\n",
       "      <td>5.0</td>\n",
       "      <td>17.24</td>\n",
       "      <td>1198.0</td>\n",
       "      <td>73.90</td>\n",
       "      <td>0</td>\n",
       "      <td>1</td>\n",
       "      <td>0</td>\n",
       "      <td>1</td>\n",
       "      <td>...</td>\n",
       "      <td>0</td>\n",
       "      <td>0</td>\n",
       "      <td>0</td>\n",
       "      <td>0</td>\n",
       "      <td>0</td>\n",
       "      <td>0</td>\n",
       "      <td>0</td>\n",
       "      <td>0</td>\n",
       "      <td>0</td>\n",
       "      <td>1</td>\n",
       "    </tr>\n",
       "    <tr>\n",
       "      <th>2276</th>\n",
       "      <td>75</td>\n",
       "      <td>5</td>\n",
       "      <td>5.0</td>\n",
       "      <td>20.36</td>\n",
       "      <td>1197.0</td>\n",
       "      <td>78.90</td>\n",
       "      <td>0</td>\n",
       "      <td>1</td>\n",
       "      <td>0</td>\n",
       "      <td>1</td>\n",
       "      <td>...</td>\n",
       "      <td>0</td>\n",
       "      <td>0</td>\n",
       "      <td>0</td>\n",
       "      <td>0</td>\n",
       "      <td>0</td>\n",
       "      <td>0</td>\n",
       "      <td>0</td>\n",
       "      <td>0</td>\n",
       "      <td>1</td>\n",
       "      <td>0</td>\n",
       "    </tr>\n",
       "    <tr>\n",
       "      <th>1599</th>\n",
       "      <td>95</td>\n",
       "      <td>22</td>\n",
       "      <td>5.0</td>\n",
       "      <td>17.30</td>\n",
       "      <td>993.0</td>\n",
       "      <td>60.00</td>\n",
       "      <td>0</td>\n",
       "      <td>1</td>\n",
       "      <td>0</td>\n",
       "      <td>1</td>\n",
       "      <td>...</td>\n",
       "      <td>0</td>\n",
       "      <td>0</td>\n",
       "      <td>0</td>\n",
       "      <td>0</td>\n",
       "      <td>0</td>\n",
       "      <td>1</td>\n",
       "      <td>0</td>\n",
       "      <td>0</td>\n",
       "      <td>0</td>\n",
       "      <td>0</td>\n",
       "    </tr>\n",
       "    <tr>\n",
       "      <th>2356</th>\n",
       "      <td>14</td>\n",
       "      <td>3</td>\n",
       "      <td>5.0</td>\n",
       "      <td>18.60</td>\n",
       "      <td>1197.0</td>\n",
       "      <td>81.83</td>\n",
       "      <td>0</td>\n",
       "      <td>1</td>\n",
       "      <td>0</td>\n",
       "      <td>1</td>\n",
       "      <td>...</td>\n",
       "      <td>0</td>\n",
       "      <td>0</td>\n",
       "      <td>0</td>\n",
       "      <td>0</td>\n",
       "      <td>0</td>\n",
       "      <td>0</td>\n",
       "      <td>1</td>\n",
       "      <td>0</td>\n",
       "      <td>0</td>\n",
       "      <td>0</td>\n",
       "    </tr>\n",
       "    <tr>\n",
       "      <th>737</th>\n",
       "      <td>12</td>\n",
       "      <td>4</td>\n",
       "      <td>5.0</td>\n",
       "      <td>21.40</td>\n",
       "      <td>1197.0</td>\n",
       "      <td>83.10</td>\n",
       "      <td>0</td>\n",
       "      <td>1</td>\n",
       "      <td>0</td>\n",
       "      <td>1</td>\n",
       "      <td>...</td>\n",
       "      <td>0</td>\n",
       "      <td>0</td>\n",
       "      <td>0</td>\n",
       "      <td>0</td>\n",
       "      <td>0</td>\n",
       "      <td>0</td>\n",
       "      <td>0</td>\n",
       "      <td>0</td>\n",
       "      <td>1</td>\n",
       "      <td>0</td>\n",
       "    </tr>\n",
       "    <tr>\n",
       "      <th>265</th>\n",
       "      <td>50</td>\n",
       "      <td>5</td>\n",
       "      <td>5.0</td>\n",
       "      <td>20.14</td>\n",
       "      <td>1498.0</td>\n",
       "      <td>88.80</td>\n",
       "      <td>1</td>\n",
       "      <td>0</td>\n",
       "      <td>0</td>\n",
       "      <td>1</td>\n",
       "      <td>...</td>\n",
       "      <td>0</td>\n",
       "      <td>0</td>\n",
       "      <td>0</td>\n",
       "      <td>0</td>\n",
       "      <td>1</td>\n",
       "      <td>0</td>\n",
       "      <td>0</td>\n",
       "      <td>0</td>\n",
       "      <td>0</td>\n",
       "      <td>0</td>\n",
       "    </tr>\n",
       "    <tr>\n",
       "      <th>713</th>\n",
       "      <td>59</td>\n",
       "      <td>13</td>\n",
       "      <td>4.0</td>\n",
       "      <td>16.10</td>\n",
       "      <td>796.0</td>\n",
       "      <td>37.00</td>\n",
       "      <td>0</td>\n",
       "      <td>1</td>\n",
       "      <td>0</td>\n",
       "      <td>1</td>\n",
       "      <td>...</td>\n",
       "      <td>0</td>\n",
       "      <td>0</td>\n",
       "      <td>0</td>\n",
       "      <td>0</td>\n",
       "      <td>0</td>\n",
       "      <td>1</td>\n",
       "      <td>0</td>\n",
       "      <td>0</td>\n",
       "      <td>0</td>\n",
       "      <td>0</td>\n",
       "    </tr>\n",
       "    <tr>\n",
       "      <th>82</th>\n",
       "      <td>88</td>\n",
       "      <td>8</td>\n",
       "      <td>5.0</td>\n",
       "      <td>25.44</td>\n",
       "      <td>936.0</td>\n",
       "      <td>57.60</td>\n",
       "      <td>1</td>\n",
       "      <td>0</td>\n",
       "      <td>0</td>\n",
       "      <td>1</td>\n",
       "      <td>...</td>\n",
       "      <td>0</td>\n",
       "      <td>0</td>\n",
       "      <td>0</td>\n",
       "      <td>0</td>\n",
       "      <td>0</td>\n",
       "      <td>1</td>\n",
       "      <td>0</td>\n",
       "      <td>0</td>\n",
       "      <td>0</td>\n",
       "      <td>0</td>\n",
       "    </tr>\n",
       "    <tr>\n",
       "      <th>2918</th>\n",
       "      <td>27</td>\n",
       "      <td>3</td>\n",
       "      <td>5.0</td>\n",
       "      <td>22.74</td>\n",
       "      <td>796.0</td>\n",
       "      <td>47.30</td>\n",
       "      <td>0</td>\n",
       "      <td>1</td>\n",
       "      <td>0</td>\n",
       "      <td>1</td>\n",
       "      <td>...</td>\n",
       "      <td>0</td>\n",
       "      <td>0</td>\n",
       "      <td>0</td>\n",
       "      <td>0</td>\n",
       "      <td>0</td>\n",
       "      <td>0</td>\n",
       "      <td>1</td>\n",
       "      <td>0</td>\n",
       "      <td>0</td>\n",
       "      <td>0</td>\n",
       "    </tr>\n",
       "  </tbody>\n",
       "</table>\n",
       "<p>10 rows × 41 columns</p>\n",
       "</div>"
      ],
      "text/plain": [
       "      KM_Driven  age  Seats  mileage_new  engine_new  power_new  \\\n",
       "1458         81    6    5.0        20.14      1498.0      88.80   \n",
       "3079         70   10    5.0        17.24      1198.0      73.90   \n",
       "2276         75    5    5.0        20.36      1197.0      78.90   \n",
       "1599         95   22    5.0        17.30       993.0      60.00   \n",
       "2356         14    3    5.0        18.60      1197.0      81.83   \n",
       "737          12    4    5.0        21.40      1197.0      83.10   \n",
       "265          50    5    5.0        20.14      1498.0      88.80   \n",
       "713          59   13    4.0        16.10       796.0      37.00   \n",
       "82           88    8    5.0        25.44       936.0      57.60   \n",
       "2918         27    3    5.0        22.74       796.0      47.30   \n",
       "\n",
       "      Fuel_Type_Diesel  Fuel_Type_Petrol  Transmission_Automatic  \\\n",
       "1458                 1                 0                       0   \n",
       "3079                 0                 1                       0   \n",
       "2276                 0                 1                       0   \n",
       "1599                 0                 1                       0   \n",
       "2356                 0                 1                       0   \n",
       "737                  0                 1                       0   \n",
       "265                  1                 0                       0   \n",
       "713                  0                 1                       0   \n",
       "82                   1                 0                       0   \n",
       "2918                 0                 1                       0   \n",
       "\n",
       "      Transmission_Manual  ...  Location_Bangalore  Location_Chennai  \\\n",
       "1458                    1  ...                   0                 0   \n",
       "3079                    1  ...                   0                 0   \n",
       "2276                    1  ...                   0                 0   \n",
       "1599                    1  ...                   0                 0   \n",
       "2356                    1  ...                   0                 0   \n",
       "737                     1  ...                   0                 0   \n",
       "265                     1  ...                   0                 0   \n",
       "713                     1  ...                   0                 0   \n",
       "82                      1  ...                   0                 0   \n",
       "2918                    1  ...                   0                 0   \n",
       "\n",
       "      Location_Coimbatore  Location_Delhi  Location_Hyderabad  \\\n",
       "1458                    0               0                   1   \n",
       "3079                    0               0                   0   \n",
       "2276                    0               0                   0   \n",
       "1599                    0               0                   0   \n",
       "2356                    0               0                   0   \n",
       "737                     0               0                   0   \n",
       "265                     0               0                   1   \n",
       "713                     0               0                   0   \n",
       "82                      0               0                   0   \n",
       "2918                    0               0                   0   \n",
       "\n",
       "      Location_Jaipur  Location_Kochi  Location_Kolkata  Location_Mumbai  \\\n",
       "1458                0               0                 0                0   \n",
       "3079                0               0                 0                0   \n",
       "2276                0               0                 0                1   \n",
       "1599                1               0                 0                0   \n",
       "2356                0               1                 0                0   \n",
       "737                 0               0                 0                1   \n",
       "265                 0               0                 0                0   \n",
       "713                 1               0                 0                0   \n",
       "82                  1               0                 0                0   \n",
       "2918                0               1                 0                0   \n",
       "\n",
       "      Location_Pune  \n",
       "1458              0  \n",
       "3079              1  \n",
       "2276              0  \n",
       "1599              0  \n",
       "2356              0  \n",
       "737               0  \n",
       "265               0  \n",
       "713               0  \n",
       "82                0  \n",
       "2918              0  \n",
       "\n",
       "[10 rows x 41 columns]"
      ]
     },
     "execution_count": 22,
     "metadata": {},
     "output_type": "execute_result"
    }
   ],
   "source": [
    "X_train[0:10]"
   ]
  },
  {
   "cell_type": "code",
   "execution_count": 23,
   "metadata": {},
   "outputs": [
    {
     "data": {
      "text/plain": [
       "(619, 41)"
      ]
     },
     "execution_count": 23,
     "metadata": {},
     "output_type": "execute_result"
    }
   ],
   "source": [
    "X_test.shape"
   ]
  },
  {
   "cell_type": "markdown",
   "metadata": {},
   "source": [
    "### Linear Models\n",
    "\n",
    "Assumes linear relationship between features and outcome variable."
   ]
  },
  {
   "cell_type": "code",
   "execution_count": 24,
   "metadata": {},
   "outputs": [
    {
     "data": {
      "image/png": "[encoded data removed]",
      "text/plain": [
       "<Figure size 360x360 with 1 Axes>"
      ]
     },
     "metadata": {
      "needs_background": "light"
     },
     "output_type": "display_data"
    }
   ],
   "source": [
    "sn.lmplot( data = cars_df.sample(100),\n",
    "           x = 'power_new',\n",
    "           y = 'Price');"
   ]
  },
  {
   "cell_type": "code",
   "execution_count": 25,
   "metadata": {},
   "outputs": [],
   "source": [
    "from sklearn.linear_model import LinearRegression"
   ]
  },
  {
   "cell_type": "code",
   "execution_count": 26,
   "metadata": {},
   "outputs": [],
   "source": [
    "lreg_v1 = LinearRegression()"
   ]
  },
  {
   "cell_type": "code",
   "execution_count": 27,
   "metadata": {},
   "outputs": [
    {
     "data": {
      "text/plain": [
       "LinearRegression()"
      ]
     },
     "execution_count": 27,
     "metadata": {},
     "output_type": "execute_result"
    }
   ],
   "source": [
    "lreg_v1.fit(X_train, y_train)"
   ]
  },
  {
   "cell_type": "markdown",
   "metadata": {},
   "source": [
    "### Understanding model parameters"
   ]
  },
  {
   "cell_type": "code",
   "execution_count": 28,
   "metadata": {},
   "outputs": [
    {
     "data": {
      "text/plain": [
       "1.4783586370934283"
      ]
     },
     "execution_count": 28,
     "metadata": {},
     "output_type": "execute_result"
    }
   ],
   "source": [
    "lreg_v1.intercept_"
   ]
  },
  {
   "cell_type": "code",
   "execution_count": 29,
   "metadata": {},
   "outputs": [
    {
     "data": {
      "text/plain": [
       "array([-1.07853404e-02, -3.37985934e-01,  1.78720075e-01, -2.58427582e-02,\n",
       "        1.10238776e-03,  4.87346624e-02,  4.98706460e-01, -4.98706460e-01,\n",
       "        1.24616170e-01, -1.24616170e-01,  1.49308129e-01, -4.90098225e-01,\n",
       "       -7.77031464e-03,  3.48560411e-01,  5.55111512e-16, -6.83214880e-01,\n",
       "       -8.76927299e-01, -6.39601731e-01, -2.19154130e-02, -5.50663285e-03,\n",
       "        2.08252171e-01, -6.69597200e-01,  7.21161790e-01,  1.34236609e+00,\n",
       "       -5.30110523e-02,  1.53609202e-01,  7.16164188e-02, -8.21739633e-01,\n",
       "        1.09745419e+00,  1.77053987e-01, -6.66871587e-02,  4.18193570e-01,\n",
       "        9.05247375e-02,  8.41385660e-01, -4.90270994e-01,  4.45717644e-01,\n",
       "       -8.96446394e-02,  2.67312488e-01, -1.07632886e+00, -2.44020442e-01,\n",
       "       -9.61820072e-02])"
      ]
     },
     "execution_count": 29,
     "metadata": {},
     "output_type": "execute_result"
    }
   ],
   "source": [
    "lreg_v1.coef_"
   ]
  },
  {
   "cell_type": "code",
   "execution_count": 30,
   "metadata": {},
   "outputs": [
    {
     "data": {
      "text/plain": [
       "{'KM_Driven': -0.011,\n",
       " 'age': -0.338,\n",
       " 'Seats': 0.179,\n",
       " 'mileage_new': -0.026,\n",
       " 'engine_new': 0.001,\n",
       " 'power_new': 0.049,\n",
       " 'Fuel_Type_Diesel': 0.499,\n",
       " 'Fuel_Type_Petrol': -0.499,\n",
       " 'Transmission_Automatic': 0.125,\n",
       " 'Transmission_Manual': -0.125,\n",
       " 'Owner_Type_First': 0.149,\n",
       " 'Owner_Type_Fourth & Above': -0.49,\n",
       " 'Owner_Type_Second': -0.008,\n",
       " 'Owner_Type_Third': 0.349,\n",
       " 'make_ambassador': 0.0,\n",
       " 'make_chevrolet': -0.683,\n",
       " 'make_datsun': -0.877,\n",
       " 'make_fiat': -0.64,\n",
       " 'make_ford': -0.022,\n",
       " 'make_honda': -0.006,\n",
       " 'make_hyundai': 0.208,\n",
       " 'make_mahindra': -0.67,\n",
       " 'make_maruti': 0.721,\n",
       " 'make_mitsubishi': 1.342,\n",
       " 'make_nissan': -0.053,\n",
       " 'make_renault': 0.154,\n",
       " 'make_skoda': 0.072,\n",
       " 'make_tata': -0.822,\n",
       " 'make_toyota': 1.097,\n",
       " 'make_volkswagen': 0.177,\n",
       " 'Location_Ahmedabad': -0.067,\n",
       " 'Location_Bangalore': 0.418,\n",
       " 'Location_Chennai': 0.091,\n",
       " 'Location_Coimbatore': 0.841,\n",
       " 'Location_Delhi': -0.49,\n",
       " 'Location_Hyderabad': 0.446,\n",
       " 'Location_Jaipur': -0.09,\n",
       " 'Location_Kochi': 0.267,\n",
       " 'Location_Kolkata': -1.076,\n",
       " 'Location_Mumbai': -0.244,\n",
       " 'Location_Pune': -0.096}"
      ]
     },
     "execution_count": 30,
     "metadata": {},
     "output_type": "execute_result"
    }
   ],
   "source": [
    "dict(zip(X_train.columns, np.round(lreg_v1.coef_, 3)))"
   ]
  },
  {
   "cell_type": "markdown",
   "metadata": {},
   "source": [
    "### Predict on test set"
   ]
  },
  {
   "cell_type": "code",
   "execution_count": 31,
   "metadata": {},
   "outputs": [],
   "source": [
    "y_pred = lreg_v1.predict(X_test)"
   ]
  },
  {
   "cell_type": "code",
   "execution_count": 32,
   "metadata": {},
   "outputs": [],
   "source": [
    "y_df = pd.DataFrame({\"actual\": y_test,\n",
    "                     \"predicted\": y_pred,\n",
    "                     \"residual\": y_pred - y_test})"
   ]
  },
  {
   "cell_type": "code",
   "execution_count": 33,
   "metadata": {},
   "outputs": [
    {
     "data": {
      "text/html": [
       "<div>\n",
       "<style scoped>\n",
       "    .dataframe tbody tr th:only-of-type {\n",
       "        vertical-align: middle;\n",
       "    }\n",
       "\n",
       "    .dataframe tbody tr th {\n",
       "        vertical-align: top;\n",
       "    }\n",
       "\n",
       "    .dataframe thead th {\n",
       "        text-align: right;\n",
       "    }\n",
       "</style>\n",
       "<table border=\"1\" class=\"dataframe\">\n",
       "  <thead>\n",
       "    <tr style=\"text-align: right;\">\n",
       "      <th></th>\n",
       "      <th>actual</th>\n",
       "      <th>predicted</th>\n",
       "      <th>residual</th>\n",
       "    </tr>\n",
       "  </thead>\n",
       "  <tbody>\n",
       "    <tr>\n",
       "      <th>770</th>\n",
       "      <td>7.23</td>\n",
       "      <td>6.140664</td>\n",
       "      <td>-1.089336</td>\n",
       "    </tr>\n",
       "    <tr>\n",
       "      <th>1540</th>\n",
       "      <td>6.43</td>\n",
       "      <td>5.415075</td>\n",
       "      <td>-1.014925</td>\n",
       "    </tr>\n",
       "    <tr>\n",
       "      <th>2962</th>\n",
       "      <td>6.25</td>\n",
       "      <td>5.943072</td>\n",
       "      <td>-0.306928</td>\n",
       "    </tr>\n",
       "    <tr>\n",
       "      <th>2040</th>\n",
       "      <td>4.69</td>\n",
       "      <td>5.413010</td>\n",
       "      <td>0.723010</td>\n",
       "    </tr>\n",
       "    <tr>\n",
       "      <th>640</th>\n",
       "      <td>2.65</td>\n",
       "      <td>2.718570</td>\n",
       "      <td>0.068570</td>\n",
       "    </tr>\n",
       "    <tr>\n",
       "      <th>81</th>\n",
       "      <td>8.35</td>\n",
       "      <td>6.461777</td>\n",
       "      <td>-1.888223</td>\n",
       "    </tr>\n",
       "    <tr>\n",
       "      <th>2773</th>\n",
       "      <td>6.75</td>\n",
       "      <td>5.823398</td>\n",
       "      <td>-0.926602</td>\n",
       "    </tr>\n",
       "    <tr>\n",
       "      <th>816</th>\n",
       "      <td>3.00</td>\n",
       "      <td>4.078071</td>\n",
       "      <td>1.078071</td>\n",
       "    </tr>\n",
       "    <tr>\n",
       "      <th>305</th>\n",
       "      <td>1.96</td>\n",
       "      <td>1.310881</td>\n",
       "      <td>-0.649119</td>\n",
       "    </tr>\n",
       "    <tr>\n",
       "      <th>2907</th>\n",
       "      <td>4.00</td>\n",
       "      <td>4.425293</td>\n",
       "      <td>0.425293</td>\n",
       "    </tr>\n",
       "  </tbody>\n",
       "</table>\n",
       "</div>"
      ],
      "text/plain": [
       "      actual  predicted  residual\n",
       "770     7.23   6.140664 -1.089336\n",
       "1540    6.43   5.415075 -1.014925\n",
       "2962    6.25   5.943072 -0.306928\n",
       "2040    4.69   5.413010  0.723010\n",
       "640     2.65   2.718570  0.068570\n",
       "81      8.35   6.461777 -1.888223\n",
       "2773    6.75   5.823398 -0.926602\n",
       "816     3.00   4.078071  1.078071\n",
       "305     1.96   1.310881 -0.649119\n",
       "2907    4.00   4.425293  0.425293"
      ]
     },
     "execution_count": 33,
     "metadata": {},
     "output_type": "execute_result"
    }
   ],
   "source": [
    "y_df.sample(10, random_state = 100)"
   ]
  },
  {
   "cell_type": "markdown",
   "metadata": {},
   "source": [
    "### Measuring Accuracy"
   ]
  },
  {
   "cell_type": "code",
   "execution_count": 34,
   "metadata": {},
   "outputs": [],
   "source": [
    "from sklearn.metrics import mean_squared_error, r2_score"
   ]
  },
  {
   "cell_type": "code",
   "execution_count": 35,
   "metadata": {},
   "outputs": [],
   "source": [
    "mse_v1 = mean_squared_error(y_test, y_pred)"
   ]
  },
  {
   "cell_type": "code",
   "execution_count": 36,
   "metadata": {},
   "outputs": [
    {
     "data": {
      "text/plain": [
       "0.975649589495428"
      ]
     },
     "execution_count": 36,
     "metadata": {},
     "output_type": "execute_result"
    }
   ],
   "source": [
    "mse_v1"
   ]
  },
  {
   "cell_type": "code",
   "execution_count": 37,
   "metadata": {},
   "outputs": [],
   "source": [
    "rmse_v1 = np.sqrt(mse_v1)"
   ]
  },
  {
   "cell_type": "code",
   "execution_count": 38,
   "metadata": {},
   "outputs": [
    {
     "data": {
      "text/plain": [
       "0.9877497605646017"
      ]
     },
     "execution_count": 38,
     "metadata": {},
     "output_type": "execute_result"
    }
   ],
   "source": [
    "rmse_v1"
   ]
  },
  {
   "cell_type": "code",
   "execution_count": 39,
   "metadata": {},
   "outputs": [
    {
     "data": {
      "text/plain": [
       "0.7855629243476527"
      ]
     },
     "execution_count": 39,
     "metadata": {},
     "output_type": "execute_result"
    }
   ],
   "source": [
    "r2_score(y_test, y_pred)"
   ]
  },
  {
   "cell_type": "markdown",
   "metadata": {},
   "source": [
    "### What are the reasons for the remaining error\n",
    "\n",
    "1. More factors \n",
    "2. More samples \n",
    "3. Complex Models : Try other models\n",
    "4. Feature Engineering - Derive new features (factors) from existing features (factors)\n",
    "5. Noise (randomness)\n",
    "   "
   ]
  },
  {
   "cell_type": "markdown",
   "metadata": {},
   "source": [
    "### Saving the model"
   ]
  },
  {
   "cell_type": "code",
   "execution_count": 45,
   "metadata": {},
   "outputs": [],
   "source": [
    "class CarPredictionModel():\n",
    "    \n",
    "    def __init__(self, model, features, rmse):\n",
    "        self.model = model\n",
    "        self.features = features\n",
    "        self.rmse = rmse"
   ]
  },
  {
   "cell_type": "code",
   "execution_count": 46,
   "metadata": {},
   "outputs": [],
   "source": [
    "my_model = CarPredictionModel(lreg_v1, list(X_train.columns), rmse_v1)"
   ]
  },
  {
   "cell_type": "code",
   "execution_count": 47,
   "metadata": {},
   "outputs": [],
   "source": [
    "# Uncomment this code for older version of sklearn\n",
    "#from sklearn.externals import joblib\n",
    "#joblib.dump(my_model, './cars.pkl')"
   ]
  },
  {
   "cell_type": "code",
   "execution_count": 48,
   "metadata": {},
   "outputs": [],
   "source": [
    "from joblib import dump"
   ]
  },
  {
   "cell_type": "code",
   "execution_count": 49,
   "metadata": {},
   "outputs": [
    {
     "data": {
      "text/plain": [
       "['./cars.pkl']"
      ]
     },
     "execution_count": 49,
     "metadata": {},
     "output_type": "execute_result"
    }
   ],
   "source": [
    "dump(my_model, './cars.pkl')"
   ]
  },
  {
   "cell_type": "markdown",
   "metadata": {},
   "source": [
    "### Participant Tasks"
   ]
  },
  {
   "cell_type": "markdown",
   "metadata": {},
   "source": [
    "1. Removing all cars prior to 2006\n",
    "2. Add the car model to the input variables.\n",
    "3. Build a new model\n",
    "4. Predict on test set and measure the accuracy (RMSE and R Squared values)\n",
    "5. Do the cross Validation and find the mean and std of the r2 values"
   ]
  }
 ],
 "metadata": {
  "kernelspec": {
   "display_name": "Python 3",
   "language": "python",
   "name": "python3"
  },
  "language_info": {
   "codemirror_mode": {
    "name": "ipython",
    "version": 3
   },
   "file_extension": ".py",
   "mimetype": "text/x-python",
   "name": "python",
   "nbconvert_exporter": "python",
   "pygments_lexer": "ipython3",
   "version": "3.8.3"
  }
 },
 "nbformat": 4,
 "nbformat_minor": 4
}
