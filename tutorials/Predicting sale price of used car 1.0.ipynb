{
 "cells": [
  {
   "cell_type": "markdown",
   "metadata": {},
   "source": [
    "### Loading the saved model"
   ]
  },
  {
   "cell_type": "code",
   "execution_count": 1,
   "metadata": {},
   "outputs": [],
   "source": [
    "import pandas as pd\n",
    "from joblib import load\n",
    "#from sklearn.externals import joblib for older apis\n",
    "#from sklearn.externals import joblib\n",
    "#model_v1 = joblib.load('./cars.pkl')"
   ]
  },
  {
   "cell_type": "code",
   "execution_count": 2,
   "metadata": {},
   "outputs": [],
   "source": [
    "class CarPredictionModel():\n",
    "    \n",
    "    def __init__(self, model, features, rmse):\n",
    "        self.model = model\n",
    "        self.features = features\n",
    "        self.rmse = rmse"
   ]
  },
  {
   "cell_type": "code",
   "execution_count": 3,
   "metadata": {},
   "outputs": [],
   "source": [
    "model_v1 = load(\"cars.pkl\")"
   ]
  },
  {
   "cell_type": "code",
   "execution_count": 4,
   "metadata": {},
   "outputs": [
    {
     "data": {
      "text/plain": [
       "__main__.CarPredictionModel"
      ]
     },
     "execution_count": 4,
     "metadata": {},
     "output_type": "execute_result"
    }
   ],
   "source": [
    "type(model_v1)"
   ]
  },
  {
   "cell_type": "code",
   "execution_count": 5,
   "metadata": {},
   "outputs": [
    {
     "data": {
      "text/plain": [
       "LinearRegression()"
      ]
     },
     "execution_count": 5,
     "metadata": {},
     "output_type": "execute_result"
    }
   ],
   "source": [
    "model_v1.model"
   ]
  },
  {
   "cell_type": "code",
   "execution_count": 6,
   "metadata": {},
   "outputs": [
    {
     "data": {
      "text/plain": [
       "0.9877497605646017"
      ]
     },
     "execution_count": 6,
     "metadata": {},
     "output_type": "execute_result"
    }
   ],
   "source": [
    "model_v1.rmse"
   ]
  },
  {
   "cell_type": "code",
   "execution_count": 7,
   "metadata": {},
   "outputs": [
    {
     "data": {
      "text/plain": [
       "1.4783586370934283"
      ]
     },
     "execution_count": 7,
     "metadata": {},
     "output_type": "execute_result"
    }
   ],
   "source": [
    "model_v1.model.intercept_"
   ]
  },
  {
   "cell_type": "code",
   "execution_count": 8,
   "metadata": {},
   "outputs": [
    {
     "data": {
      "text/plain": [
       "['KM_Driven',\n",
       " 'age',\n",
       " 'Seats',\n",
       " 'mileage_new',\n",
       " 'engine_new',\n",
       " 'power_new',\n",
       " 'Fuel_Type_Diesel',\n",
       " 'Fuel_Type_Petrol',\n",
       " 'Transmission_Automatic',\n",
       " 'Transmission_Manual',\n",
       " 'Owner_Type_First',\n",
       " 'Owner_Type_Fourth & Above',\n",
       " 'Owner_Type_Second',\n",
       " 'Owner_Type_Third',\n",
       " 'make_ambassador',\n",
       " 'make_chevrolet',\n",
       " 'make_datsun',\n",
       " 'make_fiat',\n",
       " 'make_ford',\n",
       " 'make_honda',\n",
       " 'make_hyundai',\n",
       " 'make_mahindra',\n",
       " 'make_maruti',\n",
       " 'make_mitsubishi',\n",
       " 'make_nissan',\n",
       " 'make_renault',\n",
       " 'make_skoda',\n",
       " 'make_tata',\n",
       " 'make_toyota',\n",
       " 'make_volkswagen',\n",
       " 'Location_Ahmedabad',\n",
       " 'Location_Bangalore',\n",
       " 'Location_Chennai',\n",
       " 'Location_Coimbatore',\n",
       " 'Location_Delhi',\n",
       " 'Location_Hyderabad',\n",
       " 'Location_Jaipur',\n",
       " 'Location_Kochi',\n",
       " 'Location_Kolkata',\n",
       " 'Location_Mumbai',\n",
       " 'Location_Pune']"
      ]
     },
     "execution_count": 8,
     "metadata": {},
     "output_type": "execute_result"
    }
   ],
   "source": [
    "model_v1.features"
   ]
  },
  {
   "cell_type": "markdown",
   "metadata": {},
   "source": [
    "### Preparing the record for the new used-car for sale"
   ]
  },
  {
   "cell_type": "code",
   "execution_count": 9,
   "metadata": {},
   "outputs": [],
   "source": [
    "car_dict = {\n",
    "            'KM_Driven' : 5.5, \n",
    "            'Fuel_Type_Petrol' : 1,\n",
    "            'Transmission_Manual': 1, \n",
    "            'Owner_Type_First': 1, \n",
    "            'Seats' : 5,\n",
    "            'make_maruti': 1,\n",
    "            'mileage_new' : 16, \n",
    "            'engine_new': 1000,\n",
    "            'power_new': 90,\n",
    "            'Location_Bangalore': 1\n",
    "            }"
   ]
  },
  {
   "cell_type": "code",
   "execution_count": 10,
   "metadata": {},
   "outputs": [],
   "source": [
    "my_car = {}\n",
    "for key in model_v1.features:\n",
    "    my_car[key] = 0"
   ]
  },
  {
   "cell_type": "code",
   "execution_count": 11,
   "metadata": {},
   "outputs": [],
   "source": [
    "for key in car_dict:\n",
    "    my_car[key] = car_dict[key]"
   ]
  },
  {
   "cell_type": "code",
   "execution_count": 12,
   "metadata": {},
   "outputs": [
    {
     "data": {
      "text/plain": [
       "{'KM_Driven': 5.5,\n",
       " 'age': 0,\n",
       " 'Seats': 5,\n",
       " 'mileage_new': 16,\n",
       " 'engine_new': 1000,\n",
       " 'power_new': 90,\n",
       " 'Fuel_Type_Diesel': 0,\n",
       " 'Fuel_Type_Petrol': 1,\n",
       " 'Transmission_Automatic': 0,\n",
       " 'Transmission_Manual': 1,\n",
       " 'Owner_Type_First': 1,\n",
       " 'Owner_Type_Fourth & Above': 0,\n",
       " 'Owner_Type_Second': 0,\n",
       " 'Owner_Type_Third': 0,\n",
       " 'make_ambassador': 0,\n",
       " 'make_chevrolet': 0,\n",
       " 'make_datsun': 0,\n",
       " 'make_fiat': 0,\n",
       " 'make_ford': 0,\n",
       " 'make_honda': 0,\n",
       " 'make_hyundai': 0,\n",
       " 'make_mahindra': 0,\n",
       " 'make_maruti': 1,\n",
       " 'make_mitsubishi': 0,\n",
       " 'make_nissan': 0,\n",
       " 'make_renault': 0,\n",
       " 'make_skoda': 0,\n",
       " 'make_tata': 0,\n",
       " 'make_toyota': 0,\n",
       " 'make_volkswagen': 0,\n",
       " 'Location_Ahmedabad': 0,\n",
       " 'Location_Bangalore': 1,\n",
       " 'Location_Chennai': 0,\n",
       " 'Location_Coimbatore': 0,\n",
       " 'Location_Delhi': 0,\n",
       " 'Location_Hyderabad': 0,\n",
       " 'Location_Jaipur': 0,\n",
       " 'Location_Kochi': 0,\n",
       " 'Location_Kolkata': 0,\n",
       " 'Location_Mumbai': 0,\n",
       " 'Location_Pune': 0}"
      ]
     },
     "execution_count": 12,
     "metadata": {},
     "output_type": "execute_result"
    }
   ],
   "source": [
    "my_car"
   ]
  },
  {
   "cell_type": "code",
   "execution_count": 13,
   "metadata": {},
   "outputs": [],
   "source": [
    "df = pd.DataFrame(my_car, index = [0])"
   ]
  },
  {
   "cell_type": "code",
   "execution_count": 14,
   "metadata": {},
   "outputs": [
    {
     "data": {
      "text/html": [
       "<div>\n",
       "<style scoped>\n",
       "    .dataframe tbody tr th:only-of-type {\n",
       "        vertical-align: middle;\n",
       "    }\n",
       "\n",
       "    .dataframe tbody tr th {\n",
       "        vertical-align: top;\n",
       "    }\n",
       "\n",
       "    .dataframe thead th {\n",
       "        text-align: right;\n",
       "    }\n",
       "</style>\n",
       "<table border=\"1\" class=\"dataframe\">\n",
       "  <thead>\n",
       "    <tr style=\"text-align: right;\">\n",
       "      <th></th>\n",
       "      <th>KM_Driven</th>\n",
       "      <th>age</th>\n",
       "      <th>Seats</th>\n",
       "      <th>mileage_new</th>\n",
       "      <th>engine_new</th>\n",
       "      <th>power_new</th>\n",
       "      <th>Fuel_Type_Diesel</th>\n",
       "      <th>Fuel_Type_Petrol</th>\n",
       "      <th>Transmission_Automatic</th>\n",
       "      <th>Transmission_Manual</th>\n",
       "      <th>...</th>\n",
       "      <th>Location_Bangalore</th>\n",
       "      <th>Location_Chennai</th>\n",
       "      <th>Location_Coimbatore</th>\n",
       "      <th>Location_Delhi</th>\n",
       "      <th>Location_Hyderabad</th>\n",
       "      <th>Location_Jaipur</th>\n",
       "      <th>Location_Kochi</th>\n",
       "      <th>Location_Kolkata</th>\n",
       "      <th>Location_Mumbai</th>\n",
       "      <th>Location_Pune</th>\n",
       "    </tr>\n",
       "  </thead>\n",
       "  <tbody>\n",
       "    <tr>\n",
       "      <th>0</th>\n",
       "      <td>5.5</td>\n",
       "      <td>0</td>\n",
       "      <td>5</td>\n",
       "      <td>16</td>\n",
       "      <td>1000</td>\n",
       "      <td>90</td>\n",
       "      <td>0</td>\n",
       "      <td>1</td>\n",
       "      <td>0</td>\n",
       "      <td>1</td>\n",
       "      <td>...</td>\n",
       "      <td>1</td>\n",
       "      <td>0</td>\n",
       "      <td>0</td>\n",
       "      <td>0</td>\n",
       "      <td>0</td>\n",
       "      <td>0</td>\n",
       "      <td>0</td>\n",
       "      <td>0</td>\n",
       "      <td>0</td>\n",
       "      <td>0</td>\n",
       "    </tr>\n",
       "  </tbody>\n",
       "</table>\n",
       "<p>1 rows × 41 columns</p>\n",
       "</div>"
      ],
      "text/plain": [
       "   KM_Driven  age  Seats  mileage_new  engine_new  power_new  \\\n",
       "0        5.5    0      5           16        1000         90   \n",
       "\n",
       "   Fuel_Type_Diesel  Fuel_Type_Petrol  Transmission_Automatic  \\\n",
       "0                 0                 1                       0   \n",
       "\n",
       "   Transmission_Manual  ...  Location_Bangalore  Location_Chennai  \\\n",
       "0                    1  ...                   1                 0   \n",
       "\n",
       "   Location_Coimbatore  Location_Delhi  Location_Hyderabad  Location_Jaipur  \\\n",
       "0                    0               0                   0                0   \n",
       "\n",
       "   Location_Kochi  Location_Kolkata  Location_Mumbai  Location_Pune  \n",
       "0               0                 0                0              0  \n",
       "\n",
       "[1 rows x 41 columns]"
      ]
     },
     "execution_count": 14,
     "metadata": {},
     "output_type": "execute_result"
    }
   ],
   "source": [
    "df"
   ]
  },
  {
   "cell_type": "code",
   "execution_count": 15,
   "metadata": {},
   "outputs": [
    {
     "data": {
      "text/plain": [
       "(1, 41)"
      ]
     },
     "execution_count": 15,
     "metadata": {},
     "output_type": "execute_result"
    }
   ],
   "source": [
    "df.shape"
   ]
  },
  {
   "cell_type": "markdown",
   "metadata": {},
   "source": [
    "### Predicting the price of the used car"
   ]
  },
  {
   "cell_type": "code",
   "execution_count": 16,
   "metadata": {},
   "outputs": [
    {
     "data": {
      "text/plain": [
       "array([8.05300374])"
      ]
     },
     "execution_count": 16,
     "metadata": {},
     "output_type": "execute_result"
    }
   ],
   "source": [
    "model_v1.model.predict(df)"
   ]
  }
 ],
 "metadata": {
  "kernelspec": {
   "display_name": "Python 3",
   "language": "python",
   "name": "python3"
  },
  "language_info": {
   "codemirror_mode": {
    "name": "ipython",
    "version": 3
   },
   "file_extension": ".py",
   "mimetype": "text/x-python",
   "name": "python",
   "nbconvert_exporter": "python",
   "pygments_lexer": "ipython3",
   "version": "3.8.3"
  }
 },
 "nbformat": 4,
 "nbformat_minor": 4
}
